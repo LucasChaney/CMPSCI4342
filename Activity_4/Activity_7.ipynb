{
 "cells": [
  {
   "cell_type": "markdown",
   "id": "f44a020f-90b5-41d6-86aa-ba2aa03fff33",
   "metadata": {},
   "source": [
    "# Activity 7\n",
    "\n",
    "For this activity, let's consider the previous classification problem:\n",
    "\n",
    "## Predicting Customer Churn in a Telecom Company\n",
    "### Problem Overview\n",
    "In this classification problem, the goal is to predict whether a customer will churn (leave) or stay with a telecom company based on several features such as customer demographics, service usage, and account information.\n",
    "\n",
    "- Class label: Churn (1 = Yes, 0 = No)\n",
    "\n",
    "    - 1: Customer has churned.\n",
    "    - 0: Customer has stayed.\n",
    "    \n",
    "- Features\n",
    "    - Customer ID: Unique identifier for each customer.\n",
    "    - Gender: Whether the customer is male or female.\n",
    "    - Age: Age of the customer.\n",
    "    - Tenure: Number of months the customer has been with the company.\n",
    "    - Service Plan: Type of service plan (e.g., Basic, Premium).\n",
    "    - Monthly Charges: Monthly bill of the customer.\n",
    "    - Total Charges: Total amount billed to the customer.\n",
    "    - Internet Service: Whether the customer has internet service (Yes/No).\n",
    "    - Tech Support: Whether the customer has tech support (Yes/No).\n",
    "    - Paperless Billing: Whether the customer opts for paperless billing (Yes/No).\n",
    "    - Payment Method: Payment method (e.g., Bank Transfer, Credit Card).\n",
    "    - Contract Type: Contract type (e.g., Month-to-month, One year, Two year).\n",
    "    - Phone Service: Whether the customer has phone service (Yes/No).\n",
    "    - Multiple Lines: Whether the customer has multiple lines (Yes/No).\n",
    "    \n",
    "### Ensemble Models:\n",
    "- **Random Forest (Bagging)**:\n",
    "   - **Concept**: Random Forest is an ensemble method that builds multiple decision trees. Each tree is trained on a different random subset of the data (bootstrapping). The final prediction is the majority vote from all trees.\n",
    "   - **Key Feature**: Bagging (Bootstrap Aggregating) reduces variance by averaging multiple decision trees.\n",
    "   - **Similarity to Other Models**: Like Bagging, it uses multiple weak learners (decision trees), but it introduces randomness both in data sampling and feature selection, making it more robust.\n",
    "   \n",
    "   \n",
    "- **General Bagging**:\n",
    "   - **Concept**: Bagging reduces overfitting by creating multiple copies of the model, each trained on a random subset of the data.\n",
    "   - **Difference from Random Forest**: Random Forest is a specialized form of bagging with added randomness in feature selection. Bagging can use any base estimator, like decision trees in our example.\n",
    "   \n",
    "   \n",
    "- **Gradient Boosting (General Boosting)**:\n",
    "   - **Concept**: Boosting combines weak learners sequentially. Each model tries to correct the errors made by the previous one by focusing on the misclassified instances.\n",
    "   - **Key Feature**: The model \"boosts\" performance by combining models to improve predictions iteratively.\n",
    "   - **Difference from Bagging**: Unlike bagging, which trains models independently, boosting trains models sequentially.\n",
    "\n",
    "\n",
    "- **AdaBoost**:\n",
    "   - **Concept**: AdaBoost adjusts the weights of misclassified instances, thereby focusing on harder-to-predict data points in each subsequent iteration.\n",
    "   - **Difference from Gradient Boosting**: AdaBoost assigns higher weights to misclassified instances, whereas gradient boosting minimizes the loss function (error) using gradient descent.\n",
    "\n",
    "\n",
    "- **XGBoost**:\n",
    "   - **Concept**: XGBoost is an optimized version of gradient boosting, with additional techniques for regularization and performance improvement.\n",
    "   - **Key Feature**: XGBoost uses tree pruning and parallelization, making it faster and more efficient than traditional gradient boosting.\n",
    "\n",
    "\n",
    "### Conclusion:\n",
    "- **Random Forest** and **Bagging** are robust ensemble methods that reduce variance by averaging multiple models.\n",
    "- **Boosting** methods (**Gradient Boosting**, **AdaBoost**, and **XGBoost**) improve predictions iteratively, making them stronger for datasets with complex patterns.\n",
    "- Hyperparameter tuning is crucial to optimize the models and improve their performance.\n",
    "\n",
    "### Dataset\n",
    "We will use the same dataset we used in Activity 4. This dataset contains information for over 7000 customers."
   ]
  },
  {
   "cell_type": "markdown",
   "id": "b0051da3-95b3-4d35-a0c9-4eee3301151a",
   "metadata": {
    "tags": []
   },
   "source": [
    "# Import necessary libraries"
   ]
  },
  {
   "cell_type": "code",
   "execution_count": 12,
   "id": "f372047e-cb4e-4a4a-b185-2d73ce089a52",
   "metadata": {
    "tags": []
   },
   "outputs": [
    {
     "name": "stdout",
     "output_type": "stream",
     "text": [
      "   customerID  gender  SeniorCitizen Partner Dependents  tenure PhoneService  \\\n",
      "0  7590-VHVEG  Female              0     Yes         No       1           No   \n",
      "1  5575-GNVDE    Male              0      No         No      34          Yes   \n",
      "2  3668-QPYBK    Male              0      No         No       2          Yes   \n",
      "3  7795-CFOCW    Male              0      No         No      45           No   \n",
      "4  9237-HQITU  Female              0      No         No       2          Yes   \n",
      "\n",
      "      MultipleLines InternetService OnlineSecurity  ... DeviceProtection  \\\n",
      "0  No phone service             DSL             No  ...               No   \n",
      "1                No             DSL            Yes  ...              Yes   \n",
      "2                No             DSL            Yes  ...               No   \n",
      "3  No phone service             DSL            Yes  ...              Yes   \n",
      "4                No     Fiber optic             No  ...               No   \n",
      "\n",
      "  TechSupport StreamingTV StreamingMovies        Contract PaperlessBilling  \\\n",
      "0          No          No              No  Month-to-month              Yes   \n",
      "1          No          No              No        One year               No   \n",
      "2          No          No              No  Month-to-month              Yes   \n",
      "3         Yes          No              No        One year               No   \n",
      "4          No          No              No  Month-to-month              Yes   \n",
      "\n",
      "               PaymentMethod MonthlyCharges  TotalCharges Churn  \n",
      "0           Electronic check          29.85         29.85    No  \n",
      "1               Mailed check          56.95        1889.5    No  \n",
      "2               Mailed check          53.85        108.15   Yes  \n",
      "3  Bank transfer (automatic)          42.30       1840.75    No  \n",
      "4           Electronic check          70.70        151.65   Yes  \n",
      "\n",
      "[5 rows x 21 columns]\n"
     ]
    },
    {
     "data": {
      "text/plain": [
       "Index(['customerID', 'gender', 'SeniorCitizen', 'Partner', 'Dependents',\n",
       "       'tenure', 'PhoneService', 'MultipleLines', 'InternetService',\n",
       "       'OnlineSecurity', 'OnlineBackup', 'DeviceProtection', 'TechSupport',\n",
       "       'StreamingTV', 'StreamingMovies', 'Contract', 'PaperlessBilling',\n",
       "       'PaymentMethod', 'MonthlyCharges', 'TotalCharges', 'Churn'],\n",
       "      dtype='object')"
      ]
     },
     "execution_count": 12,
     "metadata": {},
     "output_type": "execute_result"
    }
   ],
   "source": [
    "import pandas as pd\n",
    "import numpy as np\n",
    "import matplotlib.pyplot as plt\n",
    "import seaborn as sns\n",
    "from sklearn.model_selection import train_test_split, GridSearchCV, RandomizedSearchCV\n",
    "from sklearn.preprocessing import StandardScaler, LabelEncoder\n",
    "from sklearn.impute import SimpleImputer\n",
    "from sklearn.ensemble import RandomForestClassifier, BaggingClassifier, GradientBoostingClassifier, AdaBoostClassifier\n",
    "from xgboost import XGBClassifier\n",
    "from sklearn.tree import DecisionTreeClassifier\n",
    "from sklearn.metrics import accuracy_score, precision_score, recall_score, f1_score, roc_auc_score\n",
    "from sklearn.preprocessing import LabelEncoder\n",
    "\n",
    "# 1. Load the dataset\n",
    "# Load the dataset (replace 'telecom_churn_data.csv' with your actual file path)\n",
    "data = pd.read_csv('WA_Fn-UseC_-Telco-Customer-Churn.csv')\n",
    "\n",
    "# Display the first few rows of the dataset\n",
    "print(data.head())\n",
    "data.columns"
   ]
  },
  {
   "cell_type": "markdown",
   "id": "6b13a68f-1983-4864-8984-c011f48423a4",
   "metadata": {
    "tags": []
   },
   "source": [
    "# 2. EDA (Exploratory Data Analysis)\n",
    "## Summary statistics"
   ]
  },
  {
   "cell_type": "code",
   "execution_count": 13,
   "id": "93be67dd-7a61-4c1c-b3fd-10a29ee96460",
   "metadata": {
    "tags": []
   },
   "outputs": [
    {
     "name": "stdout",
     "output_type": "stream",
     "text": [
      "       SeniorCitizen       tenure  MonthlyCharges\n",
      "count    7043.000000  7043.000000     7043.000000\n",
      "mean        0.162147    32.371149       64.761692\n",
      "std         0.368612    24.559481       30.090047\n",
      "min         0.000000     0.000000       18.250000\n",
      "25%         0.000000     9.000000       35.500000\n",
      "50%         0.000000    29.000000       70.350000\n",
      "75%         0.000000    55.000000       89.850000\n",
      "max         1.000000    72.000000      118.750000\n",
      "customerID          0\n",
      "gender              0\n",
      "SeniorCitizen       0\n",
      "Partner             0\n",
      "Dependents          0\n",
      "tenure              0\n",
      "PhoneService        0\n",
      "MultipleLines       0\n",
      "InternetService     0\n",
      "OnlineSecurity      0\n",
      "OnlineBackup        0\n",
      "DeviceProtection    0\n",
      "TechSupport         0\n",
      "StreamingTV         0\n",
      "StreamingMovies     0\n",
      "Contract            0\n",
      "PaperlessBilling    0\n",
      "PaymentMethod       0\n",
      "MonthlyCharges      0\n",
      "TotalCharges        0\n",
      "Churn               0\n",
      "dtype: int64\n"
     ]
    },
    {
     "data": {
      "image/png": "[encoded data removed]",
      "text/plain": [
       "<Figure size 600x400 with 1 Axes>"
      ]
     },
     "metadata": {},
     "output_type": "display_data"
    }
   ],
   "source": [
    "print(data.describe())\n",
    "\n",
    "# Check for missing values\n",
    "print(data.isnull().sum())\n",
    "\n",
    "# Visualize the distribution of the target variable (Churn)\n",
    "plt.figure(figsize=(6, 4))\n",
    "sns.countplot(x='Churn', data=data)\n",
    "plt.title('Distribution of Churn (Target Variable)')\n",
    "plt.show()"
   ]
  },
  {
   "cell_type": "markdown",
   "id": "48a2d0c9-ab37-49f1-8823-18a0eb014f8d",
   "metadata": {
    "tags": []
   },
   "source": [
    "## Visualize the distribution of numerical features"
   ]
  },
  {
   "cell_type": "code",
   "execution_count": 14,
   "id": "b9d1d7e9-5a1a-4bb1-89be-6455fc38e4cf",
   "metadata": {
    "tags": []
   },
   "outputs": [
    {
     "data": {
      "image/png": "[encoded data removed]",
      "text/plain": [
       "<Figure size 1500x1000 with 4 Axes>"
      ]
     },
     "metadata": {},
     "output_type": "display_data"
    }
   ],
   "source": [
    "numerical_features = data.select_dtypes(include=[np.number]).columns\n",
    "data[numerical_features].hist(bins=20, figsize=(15, 10))\n",
    "plt.suptitle('Distribution of Numerical Features')\n",
    "plt.show()"
   ]
  },
  {
   "cell_type": "markdown",
   "id": "d76f72d8-d6ac-44ab-829a-de829f2ee336",
   "metadata": {
    "tags": []
   },
   "source": [
    "## Correlation heatmap of numerical features"
   ]
  },
  {
   "cell_type": "code",
   "execution_count": 15,
   "id": "62f0a128-6f22-491c-9030-c871005cbde6",
   "metadata": {
    "tags": []
   },
   "outputs": [
    {
     "data": {
      "image/png": "[encoded data removed]",
      "text/plain": [
       "<Figure size 1000x800 with 2 Axes>"
      ]
     },
     "metadata": {},
     "output_type": "display_data"
    }
   ],
   "source": [
    "plt.figure(figsize=(10, 8))\n",
    "corr_matrix = data[numerical_features].corr()\n",
    "sns.heatmap(corr_matrix, annot=True, cmap='coolwarm', fmt='.2f', linewidths=1, square=True)\n",
    "plt.title('Correlation Heatmap of Numerical Features')\n",
    "plt.show()"
   ]
  },
  {
   "cell_type": "code",
   "execution_count": 16,
   "id": "71de55a7-a3a8-4543-b4c5-ee4c160509bd",
   "metadata": {
    "tags": []
   },
   "outputs": [
    {
     "name": "stdout",
     "output_type": "stream",
     "text": [
      "Index(['customerID', 'gender', 'SeniorCitizen', 'Partner', 'Dependents',\n",
      "       'tenure', 'PhoneService', 'MultipleLines', 'InternetService',\n",
      "       'OnlineSecurity', 'OnlineBackup', 'DeviceProtection', 'TechSupport',\n",
      "       'StreamingTV', 'StreamingMovies', 'Contract', 'PaperlessBilling',\n",
      "       'PaymentMethod', 'MonthlyCharges', 'TotalCharges', 'Churn'],\n",
      "      dtype='object')\n"
     ]
    }
   ],
   "source": [
    "print(data.columns)"
   ]
  },
  {
   "cell_type": "markdown",
   "id": "2d501992-2a9f-42c6-a259-daeac2646657",
   "metadata": {
    "tags": []
   },
   "source": [
    "# 3. Preprocessing\n",
    "## Handle missing values"
   ]
  },
  {
   "cell_type": "code",
   "execution_count": 17,
   "id": "b888c95e-12c6-4b81-959b-af9b8730e149",
   "metadata": {
    "tags": []
   },
   "outputs": [],
   "source": [
    "# Automatically identify categorical and numerical columns\n",
    "categorical_columns = data.select_dtypes(include=['object', 'category']).columns.tolist()\n",
    "numerical_columns = data.select_dtypes(include=['int64', 'float64']).columns.tolist()\n",
    "\n",
    "# For categorical columns, we'll use mode imputation\n",
    "imputer_categorical = SimpleImputer(strategy='most_frequent')\n",
    "\n",
    "# Apply the imputer to each categorical column individually\n",
    "for col in categorical_columns:\n",
    "    data[col] = imputer_categorical.fit_transform(data[[col]]).reshape(-1)\n",
    "\n",
    "# For numerical columns, we use mean imputation\n",
    "imputer_numerical = SimpleImputer(strategy='mean')\n",
    "\n",
    "# Apply the imputer to each numerical column individually\n",
    "for col in numerical_columns:\n",
    "    data[col] = imputer_numerical.fit_transform(data[[col]])\n",
    "    "
   ]
  },
  {
   "cell_type": "markdown",
   "id": "89ee76f5-6c13-46a8-b8eb-b1c72d10a6c7",
   "metadata": {},
   "source": [
    "## Data Preparation"
   ]
  },
  {
   "cell_type": "code",
   "execution_count": 18,
   "id": "c2b46c64-a317-42c6-aa2a-d1b2cd9e6e48",
   "metadata": {
    "tags": []
   },
   "outputs": [],
   "source": [
    "# Separate the target variable (Churn) from the features before applying pd.get_dummies\n",
    "y = data['Churn']\n",
    "X = data.drop(columns=['Churn'])\n",
    "\n",
    "# Convert categorical labels 'Yes'/'No' into numerical labels 1/0\n",
    "label_encoder = LabelEncoder()\n",
    "y = label_encoder.fit_transform(y)\n",
    "\n",
    "# Remove 'Churn' from the categorical_columns list, as it is the target variable\n",
    "categorical_preds = [col for col in categorical_columns if col != 'Churn']\n",
    "\n",
    "# Apply One-Hot Encoding only to categorical columns (excluding Churn)\n",
    "X = pd.get_dummies(X, columns=categorical_preds, drop_first=True)\n",
    "\n",
    "# Split the data into training and testing sets (80-20 split)\n",
    "X_train, X_test, y_train, y_test = train_test_split(X, y, test_size=0.2, random_state=42)\n",
    "\n",
    "# Standardize the data for models that require scaling (e.g., XGBoost)\n",
    "scaler = StandardScaler()\n",
    "X_train[numerical_columns] = scaler.fit_transform(X_train[numerical_columns])\n",
    "X_test[numerical_columns] = scaler.transform(X_test[numerical_columns])"
   ]
  },
  {
   "cell_type": "markdown",
   "id": "c6227415-3422-4fe8-84d3-086ad8938dcb",
   "metadata": {
    "tags": []
   },
   "source": [
    "# 4. Model Training and Evaluation"
   ]
  },
  {
   "cell_type": "code",
   "execution_count": 19,
   "id": "2dda8ac8-081a-41cb-9a4b-b30c1f6dc79e",
   "metadata": {
    "tags": []
   },
   "outputs": [],
   "source": [
    "# function to evaluate the model performance\n",
    "def evaluate_model(model, X_train, X_test, y_train, y_test):\n",
    "    model.fit(X_train, y_train)\n",
    "    y_pred_tr = model.predict(X_train)\n",
    "    y_pred_tt = model.predict(X_test)\n",
    "\n",
    "    # COmpute scores\n",
    "    acc_train = accuracy_score(y_train, y_pred_tr)\n",
    "    prec_train = precision_score(y_train, y_pred_tr)\n",
    "    rec_train = recall_score(y_train, y_pred_tr)\n",
    "    f1_train = f1_score(y_train, y_pred_tr)\n",
    "\n",
    "    acc_test = accuracy_score(y_test, y_pred_tt)\n",
    "    prec_test = precision_score(y_test, y_pred_tt)\n",
    "    rec_test = recall_score(y_test, y_pred_tt)\n",
    "    f1_test = f1_score(y_test, y_pred_tt)\n",
    "\n",
    "    print(\"Perfomance on training data\")\n",
    "    print(f\"Accuracy: {acc_train}\")\n",
    "    print(f\"Prediction: {prec_train}\")\n",
    "    print(f\"Recall: {rec_train}\")\n",
    "    print(f\"F1-score: {f1_train}\")\n",
    "    \n",
    "    print(\"Perfomance on testing data\")\n",
    "    print(f\"Accuracy: {acc_test}\")\n",
    "    print(f\"Prediction: {prec_test}\")\n",
    "    print(f\"Recall: {rec_test}\")\n",
    "    print(f\"F1-score: {f1_test}\")"
   ]
  },
  {
   "cell_type": "markdown",
   "id": "1505e723-e31d-4ef9-a295-cf89700de122",
   "metadata": {
    "tags": []
   },
   "source": [
    "## 4.1 Random Forest (Bagging)\n",
    "Random Forest is an ensemble model based on bagging where multiple decision trees are trained independently on random subsets of the training data and their predictions are averaged. Random Forest works well\n",
    "for both classification and regression tasks."
   ]
  },
  {
   "cell_type": "code",
   "execution_count": null,
   "id": "940aacfa-46f5-4f65-9b20-0220669f439f",
   "metadata": {
    "tags": []
   },
   "outputs": [
    {
     "name": "stdout",
     "output_type": "stream",
     "text": [
      "Random Forest Results\n",
      "Perfomance on training data\n",
      "Accuracy: 1.0\n",
      "Prediction: 1.0\n",
      "Recall: 1.0\n",
      "F1-score: 1.0\n",
      "Perfomance on testing data\n",
      "Accuracy: 0.8034066713981547\n",
      "Prediction: 0.6983471074380165\n",
      "Recall: 0.45308310991957107\n",
      "F1-score: 0.5495934959349593\n"
     ]
    }
   ],
   "source": [
    "rf_model = RandomForestClassifier(random_state=42)\n",
    "print(\"Random Forest Results:\")\n",
    "evaluate_model(rf_model, X_train, X_test, y_train, y_test)"
   ]
  },
  {
   "cell_type": "markdown",
   "id": "eb2b529c-513e-4577-bab3-7a143d6226bf",
   "metadata": {
    "tags": []
   },
   "source": [
    "## 4.2 General Bagging (BaggingClassifier with DecisionTreeClassifier)\n",
    "General bagging is the process of generating multiple bootstrapped datasets (random subsets of data) and training separate models on them. In the case of BaggingClassifier, we use DecisionTreeClassifier as the base estimator. Bagging reduces variance by combining multiple models."
   ]
  },
  {
   "cell_type": "code",
   "execution_count": null,
   "id": "b9f6f61a-409b-4615-a2ce-feba4ce1e830",
   "metadata": {
    "tags": []
   },
   "outputs": [
    {
     "name": "stdout",
     "output_type": "stream",
     "text": [
      "General Bagging Results\n",
      "Perfomance on training data\n",
      "Accuracy: 0.9994675186368477\n",
      "Prediction: 0.9993311036789297\n",
      "Recall: 0.9986631016042781\n",
      "F1-score: 0.9989969909729187\n",
      "Perfomance on testing data\n",
      "Accuracy: 0.8019872249822569\n",
      "Prediction: 0.6753731343283582\n",
      "Recall: 0.48525469168900803\n",
      "F1-score: 0.5647425897035881\n"
     ]
    }
   ],
   "source": [
    "bagging_model = BaggingClassifier(estimator=DecisionTreeClassifier(), n_estimators=100, random_state=42)\n",
    "print(\"General Bagging Results:\")\n",
    "evaluate_model(bagging_model,X_train, X_test, y_train, y_test)"
   ]
  },
  {
   "cell_type": "markdown",
   "id": "b7c328a4-f6ec-470d-a436-3419ef783f49",
   "metadata": {
    "tags": []
   },
   "source": [
    "# 4.3 Gradient Boosting (General Boosting)\n",
    "Gradient Boosting is a boosting algorithm that sequentially builds models (trees) where each new model corrects the errors of the previous ones. It works by reducing the residual errors in the dataset."
   ]
  },
  {
   "cell_type": "code",
   "execution_count": null,
   "id": "19732b1d-985f-4ab1-9690-7dbd003699ac",
   "metadata": {
    "tags": []
   },
   "outputs": [
    {
     "name": "stdout",
     "output_type": "stream",
     "text": [
      "Gradient Boosting Results\n",
      "Perfomance on training data\n",
      "Accuracy: 0.8099041533546326\n",
      "Prediction: 0.6962142197599261\n",
      "Recall: 0.5040106951871658\n",
      "F1-score: 0.5847227607599845\n",
      "Perfomance on testing data\n",
      "Accuracy: 0.8133427963094393\n",
      "Prediction: 0.6950354609929078\n",
      "Recall: 0.5254691689008043\n",
      "F1-score: 0.5984732824427481\n"
     ]
    }
   ],
   "source": [
    "gb_model = GradientBoostingClassifier(random_state=42)\n",
    "print(\"Gradient Boosting Results:\")\n",
    "evaluate_model(gb_model, X_train, X_test, y_train, y_test)"
   ]
  },
  {
   "cell_type": "markdown",
   "id": "53747a46-1aa5-42ad-82fb-fa3bf6f9b77c",
   "metadata": {
    "tags": []
   },
   "source": [
    "# 4.4 AdaBoost\n",
    "AdaBoost (Adaptive Boosting) is another boosting technique, but it focuses on correcting mistakes made by previous models by adjusting the weights of misclassified instances. This leads to more emphasis on hard-to-classify samples."
   ]
  },
  {
   "cell_type": "code",
   "execution_count": 25,
   "metadata": {},
   "outputs": [
    {
     "name": "stdout",
     "output_type": "stream",
     "text": [
      "AdaBoost Results\n"
     ]
    },
    {
     "name": "stderr",
     "output_type": "stream",
     "text": [
      "c:\\Python312\\Lib\\site-packages\\sklearn\\ensemble\\_weight_boosting.py:527: FutureWarning: The SAMME.R algorithm (the default) is deprecated and will be removed in 1.6. Use the SAMME algorithm to circumvent this warning.\n",
      "  warnings.warn(\n"
     ]
    },
    {
     "name": "stdout",
     "output_type": "stream",
     "text": [
      "Perfomance on training data\n",
      "Accuracy: 0.8127440539581114\n",
      "Prediction: 0.6782538399353274\n",
      "Recall: 0.5608288770053476\n",
      "F1-score: 0.6139773143066227\n",
      "Perfomance on testing data\n",
      "Accuracy: 0.8161816891412349\n",
      "Prediction: 0.6815286624203821\n",
      "Recall: 0.5737265415549598\n",
      "F1-score: 0.6229985443959243\n"
     ]
    }
   ],
   "source": [
    "adaboost_model = AdaBoostClassifier(estimator=DecisionTreeClassifier(max_depth=1), n_estimators=100, random_state=42)\n",
    "print(\"AdaBoost Results:\")\n",
    "evaluate_model(adaboost_model, X_train, X_test, y_train, y_test)"
   ]
  },
  {
   "cell_type": "markdown",
   "id": "4fded85b-2a3f-4e13-bbe2-3a30594a0dd5",
   "metadata": {
    "tags": []
   },
   "source": [
    "## 4.5 XGBoost\n",
    "XGBoost (Extreme Gradient Boosting) is an optimized implementation of gradient boosting. It is known for its speed and efficiency, especially with large datasets. It performs better in terms of both accuracy and computational efficiency when compared to standard gradient boosting."
   ]
  },
  {
   "cell_type": "code",
   "execution_count": 26,
   "id": "29f67947-976f-4d45-b851-fd0fbb3aeed8",
   "metadata": {
    "tags": []
   },
   "outputs": [
    {
     "name": "stdout",
     "output_type": "stream",
     "text": [
      "XGBoost Results:\n",
      "Perfomance on training data\n",
      "Accuracy: 0.9298899538516152\n",
      "Prediction: 0.8986241853729182\n",
      "Recall: 0.8295454545454546\n",
      "F1-score: 0.8627042057698991\n",
      "Perfomance on testing data\n",
      "Accuracy: 0.78708303761533\n",
      "Prediction: 0.6166134185303515\n",
      "Recall: 0.517426273458445\n",
      "F1-score: 0.5626822157434402\n"
     ]
    }
   ],
   "source": [
    "xgb_model = XGBClassifier(random_state=42)\n",
    "print(\"XGBoost Results:\")\n",
    "evaluate_model(xgb_model, X_train, X_test, y_train, y_test)"
   ]
  },
  {
   "cell_type": "markdown",
   "id": "7f5b95ab-1fb7-4790-bb5b-9cc6262365c5",
   "metadata": {
    "tags": []
   },
   "source": [
    "# 5. Hyperparameter Tuning for all Models"
   ]
  },
  {
   "cell_type": "code",
   "execution_count": null,
   "id": "98451ec9-4594-4b63-9b21-973c23f4a3d9",
   "metadata": {
    "tags": []
   },
   "outputs": [],
   "source": []
  },
  {
   "cell_type": "markdown",
   "id": "40d0a769-06e0-4f45-afde-56a5d4b272eb",
   "metadata": {},
   "source": [
    "# 6. Conclusion"
   ]
  },
  {
   "cell_type": "code",
   "execution_count": null,
   "id": "72ccb88d-43fe-4a84-b73c-09e16e045a1c",
   "metadata": {},
   "outputs": [],
   "source": []
  }
 ],
 "metadata": {
  "kernelspec": {
   "display_name": "Python 3",
   "language": "python",
   "name": "python3"
  },
  "language_info": {
   "codemirror_mode": {
    "name": "ipython",
    "version": 3
   },
   "file_extension": ".py",
   "mimetype": "text/x-python",
   "name": "python",
   "nbconvert_exporter": "python",
   "pygments_lexer": "ipython3",
   "version": "3.12.1"
  }
 },
 "nbformat": 4,
 "nbformat_minor": 5
}
