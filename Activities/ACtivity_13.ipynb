{
 "cells": [
  {
   "cell_type": "code",
   "execution_count": 9,
   "id": "18122ad9",
   "metadata": {},
   "outputs": [
    {
     "name": "stdout",
     "output_type": "stream",
     "text": [
      "       A      B      C      D     E     F     G      H\n",
      "A     √0     √1     √2     √1  √162  √225  √221  √1202\n",
      "B     √1     √0     √1     √2  √145  √202  √202  √1165\n",
      "C     √2     √1     √0     √1  √128  √185  √181  √1108\n",
      "D     √1     √2     √1     √0  √145  √208  √200  √1145\n",
      "E   √162   √145   √128   √145    √0    √9    √5   √500\n",
      "F   √225   √202   √185   √208    √9    √0    √8   √449\n",
      "G   √221   √202   √181   √200    √5    √8    √0   √405\n",
      "H  √1202  √1165  √1108  √1145  √500  √449  √405     √0\n",
      "Point  x  y  Cluster  Type\n",
      "    A  1  1        0  core\n",
      "    B  2  1        0  core\n",
      "    C  2  2        0  core\n",
      "    D  1  2        0  core\n",
      "    E 10 10       -1 noise\n",
      "    F 13 10       -1 noise\n",
      "    G 11 12       -1 noise\n",
      "    H 20 30       -1 noise\n"
     ]
    }
   ],
   "source": [
    "import numpy as np\n",
    "import pandas as pd\n",
    "from sklearn.cluster import DBSCAN\n",
    "from sklearn.metrics import pairwise_distances\n",
    "\n",
    "# Define the 2D points and their labels\n",
    "names = ['A','B','C','D','E','F','G','H']\n",
    "points = np.array([\n",
    "    [1, 1],\n",
    "    [2, 1],\n",
    "    [2, 2],\n",
    "    [1, 2],\n",
    "    [10, 10],\n",
    "    [13, 10],\n",
    "    [11, 12],\n",
    "    [20, 30]\n",
    "])\n",
    "\n",
    "# Run DBSCAN with ε=2, MinPts=3\n",
    "db = DBSCAN(eps=2, min_samples=3)\n",
    "db.fit(points)\n",
    "\n",
    "# Extract cluster labels and core/border/noise classification\n",
    "labels = db.labels_\n",
    "core_indices = set(db.core_sample_indices_)\n",
    "\n",
    "types = []\n",
    "for idx, lbl in enumerate(labels):\n",
    "    if lbl == -1:\n",
    "        types.append('noise')\n",
    "    elif idx in core_indices:\n",
    "        types.append('core')\n",
    "    else:\n",
    "        types.append('border')\n",
    "\n",
    "# Prepare results in a DataFrame\n",
    "df = pd.DataFrame({\n",
    "    'Point': names,\n",
    "    'x': points[:, 0],\n",
    "    'y': points[:, 1],\n",
    "    'Cluster': labels,\n",
    "    'Type': types\n",
    "})\n",
    "\n",
    "# Compute the squared distance matrix (radicands)\n",
    "sq_dist_matrix = pairwise_distances(points, metric='sqeuclidean').astype(int)\n",
    "\n",
    "# Format each entry as a square root expression\n",
    "formatted = pd.DataFrame(\n",
    "    [[f\"√{d}\" for d in row] for row in sq_dist_matrix],\n",
    "    index=names,\n",
    "    columns=names\n",
    ")\n",
    "\n",
    "# Display the formatted distance matrix\n",
    "print(formatted.to_string())\n",
    "\n",
    "# Display the DataFrame\n",
    "print(df.to_string(index=False))\n"
   ]
  }
 ],
 "metadata": {
  "kernelspec": {
   "display_name": "Python 3",
   "language": "python",
   "name": "python3"
  },
  "language_info": {
   "codemirror_mode": {
    "name": "ipython",
    "version": 3
   },
   "file_extension": ".py",
   "mimetype": "text/x-python",
   "name": "python",
   "nbconvert_exporter": "python",
   "pygments_lexer": "ipython3",
   "version": "3.12.7"
  }
 },
 "nbformat": 4,
 "nbformat_minor": 5
}
