{
 "cells": [
  {
   "cell_type": "raw",
   "id": "96692a63-7a1b-4618-a007-987d88c5dcd5",
   "metadata": {
    "tags": []
   },
   "source": [
    "!pip install hdbscan"
   ]
  },
  {
   "cell_type": "markdown",
   "id": "1b53f914-ad54-43f3-9a66-2582c31387b8",
   "metadata": {
    "tags": []
   },
   "source": [
    "# Clustering and Anomaly Detection in Credit Card Fraud Data"
   ]
  },
  {
   "cell_type": "markdown",
   "id": "5acd9785-c549-4989-a3db-dbe2cb52d512",
   "metadata": {},
   "source": [
    "### Problem: Credit Card Fraud Detection\n",
    "\n",
    "**Credit card fraud detection** is the task of identifying illegitimate or unauthorized transactions made using a credit card. It is a major real-world problem for banks, financial institutions, and consumers due to:\n",
    "\n",
    "* **Massive transaction volume** (millions per day)\n",
    "* **Low fraud rate** (fraud cases are rare — typically <1%)\n",
    "* **High financial and reputational risk** when fraud is not detected\n",
    "* **Evolving tactics** — fraudsters constantly adapt their methods\n",
    "\n",
    "---\n",
    "\n",
    "## Challenges in Fraud Detection\n",
    "\n",
    "| Challenge               | Description                                                                    |\n",
    "| ----------------------- | ------------------------------------------------------------------------------ |\n",
    "| **Class Imbalance**     | Fraud is extremely rare → imbalanced datasets (e.g., 0.2% fraud)               |\n",
    "| **Concept Drift**       | Fraud patterns change over time                                                |\n",
    "| **Real-time Detection** | Systems must react instantly to flag or block suspicious transactions          |\n",
    "| **Feature Complexity**  | Transactions include time, amount, merchant, location, etc. (often anonymized) |\n",
    "| **Cost of Errors**      | False positives → customer inconvenience; false negatives → financial loss     |\n",
    "\n",
    "---\n",
    "\n",
    "## Why Use Anomaly Detection?\n",
    "\n",
    "**Anomaly detection** identifies rare or unusual patterns in data that do not conform to expected behavior.\n",
    "\n",
    "In credit card fraud detection:\n",
    "\n",
    "### **Anomalies = Potential Frauds**\n",
    "\n",
    "| Legitimate Behavior      | Fraudulent Behavior                     |\n",
    "| ------------------------ | --------------------------------------- |\n",
    "| Regular purchase amounts | Sudden large or repeated small charges  |\n",
    "| Usual merchant locations | Foreign transactions or risky merchants |\n",
    "| Normal timing            | Unusual hour or frequency               |\n",
    "\n",
    "---\n",
    "\n",
    "## Goals of Anomaly Detection in Fraud Detection\n",
    "\n",
    "1. **Detect fraud without needing labeled data** (unsupervised or semi-supervised methods)\n",
    "2. **Model normal behavior** → anything that deviates is flagged\n",
    "3. **Work with evolving patterns** without constant retraining\n",
    "\n",
    "---\n",
    "\n",
    "## Common Anomaly Detection Techniques Used\n",
    "\n",
    "| Technique                      | Description                                                           |\n",
    "| ------------------------------ | --------------------------------------------------------------------- |\n",
    "| **Z-score**                    | Flags values that are far from the mean                               |\n",
    "| **k-NN distance**              | Points with high average distance to neighbors are flagged            |\n",
    "| **Local Outlier Factor (LOF)** | Compares local density around a point vs. neighbors                   |\n",
    "| **Isolation Forest**           | Isolates anomalies by recursively splitting features                  |\n",
    "| **Autoencoders**               | Neural networks that reconstruct normal patterns poorly for anomalies |\n",
    "\n",
    "---\n",
    "\n",
    "## Anomaly Detection vs. Classification\n",
    "\n",
    "| Criteria           | Supervised Classification | Anomaly Detection                   |\n",
    "| ------------------ | ------------------------- | ----------------------------------- |\n",
    "| Requires labels    |  Yes                     |  No or few required                |\n",
    "| Handles imbalance  |  Hard without sampling  |  Naturally suited for imbalance    |\n",
    "| Works in real-time |  With retraining         |  Good for streaming applications   |\n",
    "| Adaptability       |  Static                  |  Better for evolving fraud tactics |\n",
    "\n",
    "---\n",
    "\n",
    "## Summary\n",
    "\n",
    "Using **anomaly detection** in credit card fraud:\n",
    "\n",
    "* Enables **early detection** of rare fraud cases\n",
    "* Works **with minimal or no labeled data**\n",
    "* Adapts to **new fraud patterns**\n",
    "* Helps build **real-time, scalable systems**"
   ]
  },
  {
   "cell_type": "markdown",
   "id": "4de42759-cded-4efc-ba29-3a7068bd4355",
   "metadata": {},
   "source": [
    "## Import Required Libraries"
   ]
  },
  {
   "cell_type": "code",
   "execution_count": 2,
   "id": "35c28d68-756b-44b4-8b37-7586d842079a",
   "metadata": {
    "tags": []
   },
   "outputs": [
    {
     "ename": "ModuleNotFoundError",
     "evalue": "No module named 'hdbscan'",
     "output_type": "error",
     "traceback": [
      "\u001b[1;31m---------------------------------------------------------------------------\u001b[0m",
      "\u001b[1;31mModuleNotFoundError\u001b[0m                       Traceback (most recent call last)",
      "Cell \u001b[1;32mIn[2], line 11\u001b[0m\n\u001b[0;32m      9\u001b[0m \u001b[38;5;28;01mimport\u001b[39;00m\u001b[38;5;250m \u001b[39m\u001b[38;5;21;01mmatplotlib\u001b[39;00m\u001b[38;5;21;01m.\u001b[39;00m\u001b[38;5;21;01mpyplot\u001b[39;00m\u001b[38;5;250m \u001b[39m\u001b[38;5;28;01mas\u001b[39;00m\u001b[38;5;250m \u001b[39m\u001b[38;5;21;01mplt\u001b[39;00m\n\u001b[0;32m     10\u001b[0m \u001b[38;5;28;01mimport\u001b[39;00m\u001b[38;5;250m \u001b[39m\u001b[38;5;21;01mseaborn\u001b[39;00m\u001b[38;5;250m \u001b[39m\u001b[38;5;28;01mas\u001b[39;00m\u001b[38;5;250m \u001b[39m\u001b[38;5;21;01msns\u001b[39;00m\n\u001b[1;32m---> 11\u001b[0m \u001b[38;5;28;01mimport\u001b[39;00m\u001b[38;5;250m \u001b[39m\u001b[38;5;21;01mhdbscan\u001b[39;00m\n\u001b[0;32m     12\u001b[0m \u001b[38;5;28;01mimport\u001b[39;00m\u001b[38;5;250m \u001b[39m\u001b[38;5;21;01mjoblib\u001b[39;00m\n",
      "\u001b[1;31mModuleNotFoundError\u001b[0m: No module named 'hdbscan'"
     ]
    }
   ],
   "source": [
    "import pandas as pd\n",
    "import numpy as np\n",
    "from sklearn.preprocessing import StandardScaler\n",
    "from sklearn.decomposition import PCA\n",
    "from sklearn.cluster import KMeans, DBSCAN\n",
    "from sklearn.neighbors import LocalOutlierFactor, NearestNeighbors\n",
    "from sklearn.metrics import classification_report, confusion_matrix, silhouette_score, adjusted_rand_score\n",
    "from sklearn.model_selection import train_test_split\n",
    "import matplotlib.pyplot as plt\n",
    "import seaborn as sns\n",
    "import hdbscan\n",
    "import joblib"
   ]
  },
  {
   "cell_type": "markdown",
   "id": "ef368ef2-3fb9-4246-96ec-49333e0774c3",
   "metadata": {
    "tags": []
   },
   "source": [
    "## Load Data"
   ]
  },
  {
   "cell_type": "code",
   "execution_count": null,
   "id": "dc159fcc-abef-45f5-87ba-ac7afa1d5305",
   "metadata": {
    "tags": []
   },
   "outputs": [],
   "source": [
    "df = pd.read_csv(\"creditcard_data.csv\")"
   ]
  },
  {
   "cell_type": "markdown",
   "id": "8d24d9e4-39e9-4d3f-95db-04831f443e49",
   "metadata": {
    "tags": []
   },
   "source": [
    "## Preprocessing\n",
    "Drop the non-feature Time and the label Class from X while storing Class as the target variable"
   ]
  },
  {
   "cell_type": "code",
   "execution_count": null,
   "id": "40f605b2-0e13-475e-b48c-8c3fd31ee90b",
   "metadata": {
    "tags": []
   },
   "outputs": [],
   "source": [
    "X = df.drop(columns=[\"Time\", \"Class\"])\n",
    "y = df[\"Class\"]"
   ]
  },
  {
   "cell_type": "markdown",
   "id": "553218cb-df79-4cd4-ae0d-f15b1db7d576",
   "metadata": {
    "tags": []
   },
   "source": [
    "## Standardize the features"
   ]
  },
  {
   "cell_type": "code",
   "execution_count": null,
   "id": "6eb6a9c3-c29f-4a74-b539-03a6651e269e",
   "metadata": {
    "tags": []
   },
   "outputs": [],
   "source": [
    "scaler = StandardScaler()\n",
    "X_scaled = scaler.fit_transform(X)"
   ]
  },
  {
   "cell_type": "markdown",
   "id": "650d5a5c-e83b-4aaa-90ef-42516191dc8e",
   "metadata": {
    "tags": []
   },
   "source": [
    "## Dimensionality Reduction with PCA\n",
    "\n",
    "## What is PCA?\n",
    "\n",
    "**Principal Component Analysis (PCA)** is a linear dimensionality reduction technique that:\n",
    "\n",
    "* Transforms data into a new coordinate system.\n",
    "* Captures the **maximum variance** in the fewest number of new dimensions, called **principal components**.\n",
    "* Projects the original data into a space where the **axes (components)** are uncorrelated (orthogonal).\n",
    "\n",
    "---\n",
    "\n",
    "## Why Use PCA?\n",
    "\n",
    "* Reduce **dimensionality** (fewer features → faster models)\n",
    "* Remove **correlated features** (reduces redundancy)\n",
    "* Improve performance of clustering or anomaly detection\n",
    "* Enable **visualization** in 2D or 3D\n",
    "\n",
    "---\n",
    "\n",
    "## How PCA Works (Simplified Steps)\n",
    "\n",
    "1. **Standardize** the data (zero mean and unit variance).\n",
    "2. Compute the **covariance matrix**.\n",
    "3. Find **eigenvalues** and **eigenvectors** of the covariance matrix.\n",
    "4. Sort eigenvectors by descending eigenvalues — these are your principal components.\n",
    "5. **Project the data** onto the top `k` eigenvectors to get reduced dimensions.\n",
    "\n",
    "---\n",
    "\n",
    "## PCA Parameters in `scikit-learn`\n",
    "\n",
    "```python\n",
    "from sklearn.decomposition import PCA\n",
    "\n",
    "pca = PCA(n_components=2, whiten=False, svd_solver='auto', random_state=42)\n",
    "```\n",
    "\n",
    "### Key Parameters:\n",
    "\n",
    "| Parameter      | Description                                                                               |\n",
    "| -------------- | ----------------------------------------------------------------------------------------- |\n",
    "| `n_components` | Number of principal components to keep. Can be an `int`, float (e.g. 0.95), or `\"mle\"`    |\n",
    "| `svd_solver`   | Algorithm used for decomposition. Options: `'auto'`, `'full'`, `'arpack'`, `'randomized'` |\n",
    "| `whiten`       | Makes each PC have unit variance. Useful for some ML algorithms, but may distort scaling  |\n",
    "| `random_state` | Reproducibility when `svd_solver='randomized'`                                            |\n",
    "\n",
    "---\n",
    "\n",
    "### `n_components` Options:\n",
    "\n",
    "| Value   | Meaning                                                                               |\n",
    "| ------- | ------------------------------------------------------------------------------------- |\n",
    "| `int`   | Keep exactly that many components                                                     |\n",
    "| `float` | Keep enough components to explain that proportion of variance (e.g., 0.95)            |\n",
    "| `'mle'` | Use Minka’s MLE to guess optimal dimensionality (only works with `svd_solver='full'`) |\n",
    "| `None`  | Keep all components (no dimensionality reduction)                                     |\n",
    "\n",
    "---\n",
    "\n",
    "## When Not to Use PCA\n",
    "\n",
    "* When features are not numeric or comparable\n",
    "* When model interpretability is critical (PCs are linear combinations, not original features)\n",
    "* When the data is not linear — use **t-SNE** or **UMAP** for nonlinear manifolds"
   ]
  },
  {
   "cell_type": "code",
   "execution_count": null,
   "id": "e64eb63d-7494-4d58-9b90-aafa4cd7df77",
   "metadata": {
    "tags": []
   },
   "outputs": [],
   "source": [
    "pca = PCA(n_components=2)\n",
    "X_pca = pca.fit_transform(X_scaled)\n",
    "X_pca = X_pca.astype(np.float32)"
   ]
  },
  {
   "cell_type": "markdown",
   "id": "a8fb1536-049c-44d0-9700-3842342c36b7",
   "metadata": {
    "tags": []
   },
   "source": [
    "## Clustering"
   ]
  },
  {
   "cell_type": "code",
   "execution_count": null,
   "id": "0a8c4e50-b71b-4358-a5ba-ad2ace35d62e",
   "metadata": {
    "tags": []
   },
   "outputs": [
    {
     "name": "stderr",
     "output_type": "stream",
     "text": [
      "C:\\ProgramData\\anaconda3\\lib\\site-packages\\sklearn\\cluster\\_kmeans.py:870: FutureWarning: The default value of `n_init` will change from 10 to 'auto' in 1.4. Set the value of `n_init` explicitly to suppress the warning\n",
      "  warnings.warn(\n"
     ]
    }
   ],
   "source": [
    "## KMeans\n",
    "kmeans = KMeans(n_clusters=2, random_state=42)\n",
    "kmeans_labels = kmeans.fit_predict(X_pca)"
   ]
  },
  {
   "cell_type": "markdown",
   "id": "1a5d3366-fe48-456a-98d7-87039bda8dd1",
   "metadata": {
    "tags": []
   },
   "source": [
    "## Memory-Optimized HDBSCAN\n",
    "\n",
    "## What is HDBSCAN?\n",
    "\n",
    "**HDBSCAN (Hierarchical Density-Based Spatial Clustering of Applications with Noise)** is an advanced clustering algorithm that builds upon **DBSCAN** to:\n",
    "\n",
    "* Handle **variable density clusters**\n",
    "* Work better on **large, real-world datasets**\n",
    "* Automatically choose the optimal **number of clusters**\n",
    "\n",
    "It creates a **hierarchical tree of clusters**, then selects the most stable (persistent) clusters from that tree.\n",
    "\n",
    "---\n",
    "\n",
    "## How Does HDBSCAN Work?\n",
    "\n",
    "1. **Mutual Reachability Distance**: It adjusts distance between points to account for local density.\n",
    "2. **Minimum Spanning Tree**: A tree is formed from the points using mutual reachability.\n",
    "3. **Cluster Hierarchy**: Clusters are formed by progressively removing the longest edges from the tree.\n",
    "4. **Condensed Tree**: Stable clusters are selected from the hierarchy using either:\n",
    "\n",
    "   * `'eom'` (Excess of Mass) – default\n",
    "   * `'leaf'` – returns smallest persistent clusters\n",
    "\n",
    "---\n",
    "\n",
    "## Differences Between HDBSCAN and DBSCAN\n",
    "\n",
    "| Feature                | **DBSCAN**                                      | **HDBSCAN**                             |\n",
    "| ---------------------- | ----------------------------------------------- | --------------------------------------- |\n",
    "| **`eps` required?**    | ✅ Yes – fixed radius                            | ❌ No – uses variable density            |\n",
    "| **Density handling**   | Fixed density threshold                         | Variable, adaptive to local density     |\n",
    "| **Hierarchical?**      | ❌ No                                            | ✅ Yes                                   |\n",
    "| **Performance**        | Slower for large N                              | Faster with optimizations               |\n",
    "| **Number of clusters** | Depends on `eps`                                | Automatically determined                |\n",
    "| **Memory usage**       | Higher (dense distance matrix)                  | Lower (sparse reachability graph)       |\n",
    "| **Cluster shapes**     | Works well, but can fail with varying densities | Excellent at handling varying densities |\n",
    "\n",
    "---\n",
    "\n",
    "## When to Use HDBSCAN?\n",
    "\n",
    "Use HDBSCAN when:\n",
    "\n",
    "* Clusters vary in **density**\n",
    "* You want **automatic cluster count**\n",
    "* You are working with **large datasets**\n",
    "* You need better **noise identification**\n"
   ]
  },
  {
   "cell_type": "code",
   "execution_count": null,
   "id": "0b37698d-87e2-49a4-b42e-c488a74dba7c",
   "metadata": {
    "tags": []
   },
   "outputs": [],
   "source": [
    "# Set up a joblib memory object with no caching\n",
    "memory = joblib.Memory(location=None)\n",
    "\n",
    "# Build HDBSCAN model (much more memory-efficient than sklearn DBSCAN)\n",
    "clusterer = hdbscan.HDBSCAN(\n",
    "    min_cluster_size=10,      # Equivalent to DBSCAN's min_samples\n",
    "    min_samples=5,\n",
    "    metric='euclidean',\n",
    "    core_dist_n_jobs=1,       # Limits parallel threads for memory\n",
    "    memory=memory,             # Use proper memory object\n",
    "    prediction_data=False     # Avoid saving extra data structures\n",
    ")\n",
    "\n",
    "# Fit and predict clusters\n",
    "dbscan_labels = clusterer.fit_predict(X_pca)"
   ]
  },
  {
   "cell_type": "markdown",
   "id": "922e7c4d-958e-4283-a7a6-d496a4116fc7",
   "metadata": {
    "tags": []
   },
   "source": [
    "## Clustering Evaluation"
   ]
  },
  {
   "cell_type": "code",
   "execution_count": null,
   "id": "71a8097d-8d5b-44d4-9d96-8c057031f647",
   "metadata": {
    "tags": []
   },
   "outputs": [
    {
     "name": "stdout",
     "output_type": "stream",
     "text": [
      "=== Optimized HDBSCAN ===\n",
      "Adjusted Rand Index: -0.0005828381227943899\n",
      "Silhouette Score (excluding noise): 0.4088021\n",
      "Detected Clusters: 6330, Noise Points: 131461\n"
     ]
    }
   ],
   "source": [
    "print(\"=== Optimized HDBSCAN ===\")\n",
    "print(\"Adjusted Rand Index:\", adjusted_rand_score(y, dbscan_labels))\n",
    "\n",
    "# Silhouette only if more than 1 cluster and not all noise\n",
    "unique_labels = set(dbscan_labels)\n",
    "if len(unique_labels) > 1 and -1 in unique_labels:\n",
    "    mask = dbscan_labels != -1\n",
    "    print(\"Silhouette Score (excluding noise):\", silhouette_score(X_pca[mask], dbscan_labels[mask]))\n",
    "else:\n",
    "    print(\"Silhouette Score: Not applicable (only one cluster)\")\n",
    "\n",
    "# Cluster summary\n",
    "n_clusters = len(set(dbscan_labels)) - (1 if -1 in dbscan_labels else 0)\n",
    "print(f\"Detected Clusters: {n_clusters}, Noise Points: {(dbscan_labels == -1).sum()}\")"
   ]
  },
  {
   "cell_type": "code",
   "execution_count": null,
   "id": "819db5d5-8094-41f1-ae1e-99c0c9519e0b",
   "metadata": {
    "tags": []
   },
   "outputs": [
    {
     "name": "stdout",
     "output_type": "stream",
     "text": [
      "=== KMeans Clustering ===\n",
      "Adjusted Rand Index: 0.0027766123538584724\n",
      "Silhouette Score: 0.8032667\n"
     ]
    }
   ],
   "source": [
    "print(\"=== KMeans Clustering ===\")\n",
    "print(\"Adjusted Rand Index:\", adjusted_rand_score(y, kmeans_labels))\n",
    "print(\"Silhouette Score:\", silhouette_score(X_pca, kmeans_labels))"
   ]
  },
  {
   "cell_type": "markdown",
   "id": "0fa83783-898d-4842-9a52-e0e6ff83ba14",
   "metadata": {
    "tags": []
   },
   "source": [
    "## Local Outlier Factor (LOF) for Anomaly Detection"
   ]
  },
  {
   "cell_type": "code",
   "execution_count": null,
   "id": "8e1a42e0-c4e4-4dd9-bae6-42af7f2093ce",
   "metadata": {
    "tags": []
   },
   "outputs": [],
   "source": [
    "lof = LocalOutlierFactor(n_neighbors=20, contamination=0.02)\n",
    "lof_preds = lof.fit_predict(X_scaled)\n",
    "\n",
    "# Map LOF output to 0 (normal) and 1 (anomaly)\n",
    "lof_labels = np.where(lof_preds == -1, 1, 0)"
   ]
  },
  {
   "cell_type": "markdown",
   "id": "de81ed08-bf69-438b-b2ac-77d24b9fd4c0",
   "metadata": {
    "tags": []
   },
   "source": [
    "## Evaluation of LOF"
   ]
  },
  {
   "cell_type": "code",
   "execution_count": null,
   "id": "08ad2fd7-5572-48a1-bca8-a470a2393616",
   "metadata": {
    "tags": []
   },
   "outputs": [
    {
     "name": "stdout",
     "output_type": "stream",
     "text": [
      "\n",
      "=== LOF Anomaly Detection ===\n",
      "              precision    recall  f1-score   support\n",
      "\n",
      "           0     0.9983    0.9800    0.9891    284314\n",
      "           1     0.0030    0.0346    0.0055       492\n",
      "\n",
      "    accuracy                         0.9784    284806\n",
      "   macro avg     0.5006    0.5073    0.4973    284806\n",
      "weighted avg     0.9966    0.9784    0.9874    284806\n",
      "\n"
     ]
    }
   ],
   "source": [
    "print(\"\\n=== LOF Anomaly Detection ===\")\n",
    "print(classification_report(y, lof_labels, digits=4))"
   ]
  },
  {
   "cell_type": "markdown",
   "id": "eb6196ad-464a-4a90-8600-9df7df4c3766",
   "metadata": {
    "tags": []
   },
   "source": [
    "## Confusion Matrix"
   ]
  },
  {
   "cell_type": "code",
   "execution_count": null,
   "id": "798d165a-e0da-4b0d-ad41-81f2e6a8aa20",
   "metadata": {
    "tags": []
   },
   "outputs": [
    {
     "data": {
      "image/png": "[encoded data removed]",
      "text/plain": [
       "<Figure size 640x480 with 2 Axes>"
      ]
     },
     "metadata": {},
     "output_type": "display_data"
    }
   ],
   "source": [
    "cm = confusion_matrix(y, lof_labels)\n",
    "sns.heatmap(cm, annot=True, fmt=\"d\", cmap=\"Blues\", xticklabels=[\"Predicted Normal\", \"Predicted Fraud\"],\n",
    "            yticklabels=[\"Actual Normal\", \"Actual Fraud\"])\n",
    "plt.title(\"LOF Confusion Matrix\")\n",
    "plt.xlabel(\"Predicted\")\n",
    "plt.ylabel(\"Actual\")\n",
    "plt.show()"
   ]
  },
  {
   "cell_type": "markdown",
   "id": "b6e9c46d-d220-4944-b047-1421cbf8b864",
   "metadata": {},
   "source": [
    "## Assignment Questions\n",
    "\n",
    "Use the code in this notebook to answer the following questions:\n",
    "\n",
    "### **Conceptual Understanding**\n",
    "\n",
    "1. What is the main difference between KMeans and HDBSCAN clustering? How do they handle cluster shapes and noise?\n",
    "2. Why is PCA applied before clustering or anomaly detection in this notebook?\n",
    "3. What are the limitations of using accuracy as a metric for fraud detection?\n",
    "\n",
    "### **Code Analysis**\n",
    "\n",
    "4. Modify the code to use 3 principal components instead of 2. Re-run KMeans and observe how ARI and Silhouette Score change. What do you conclude?\n",
    "5. Tune the `min_cluster_size` and `min_samples` parameters in HDBSCAN. Which combination gives the best Silhouette Score?\n",
    "6. Replace LOF with `IsolationForest`. Compare the results. Which performs better in terms of detecting fraud?\n",
    "\n",
    "### **Practical Extension**\n",
    "\n",
    "7. Using the original (30D) features instead of PCA-reduced data, apply DBSCAN. What challenges do you face?\n",
    "8. Visualize the LOF scores on a scatterplot. Which clusters are more vulnerable to fraud?\n"
   ]
  },
  {
   "cell_type": "code",
   "execution_count": null,
   "id": "6759e583-f135-4743-b0d5-ead0923e3689",
   "metadata": {},
   "outputs": [],
   "source": []
  }
 ],
 "metadata": {
  "kernelspec": {
   "display_name": "Python 3",
   "language": "python",
   "name": "python3"
  },
  "language_info": {
   "codemirror_mode": {
    "name": "ipython",
    "version": 3
   },
   "file_extension": ".py",
   "mimetype": "text/x-python",
   "name": "python",
   "nbconvert_exporter": "python",
   "pygments_lexer": "ipython3",
   "version": "3.12.1"
  }
 },
 "nbformat": 4,
 "nbformat_minor": 5
}
