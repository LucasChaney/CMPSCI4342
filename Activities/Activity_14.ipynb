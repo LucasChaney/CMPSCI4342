{
  "cells": [
    {
      "cell_type": "raw",
      "id": "96692a63-7a1b-4618-a007-987d88c5dcd5",
      "metadata": {
        "tags": [],
        "id": "96692a63-7a1b-4618-a007-987d88c5dcd5"
      },
      "source": [
        "!pip install hdbscan"
      ]
    },
    {
      "cell_type": "markdown",
      "id": "1b53f914-ad54-43f3-9a66-2582c31387b8",
      "metadata": {
        "tags": [],
        "id": "1b53f914-ad54-43f3-9a66-2582c31387b8"
      },
      "source": [
        "# Clustering and Anomaly Detection in Credit Card Fraud Data"
      ]
    },
    {
      "cell_type": "markdown",
      "id": "5acd9785-c549-4989-a3db-dbe2cb52d512",
      "metadata": {
        "id": "5acd9785-c549-4989-a3db-dbe2cb52d512"
      },
      "source": [
        "### Problem: Credit Card Fraud Detection\n",
        "\n",
        "**Credit card fraud detection** is the task of identifying illegitimate or unauthorized transactions made using a credit card. It is a major real-world problem for banks, financial institutions, and consumers due to:\n",
        "\n",
        "* **Massive transaction volume** (millions per day)\n",
        "* **Low fraud rate** (fraud cases are rare — typically <1%)\n",
        "* **High financial and reputational risk** when fraud is not detected\n",
        "* **Evolving tactics** — fraudsters constantly adapt their methods\n",
        "\n",
        "---\n",
        "\n",
        "## Challenges in Fraud Detection\n",
        "\n",
        "| Challenge               | Description                                                                    |\n",
        "| ----------------------- | ------------------------------------------------------------------------------ |\n",
        "| **Class Imbalance**     | Fraud is extremely rare → imbalanced datasets (e.g., 0.2% fraud)               |\n",
        "| **Concept Drift**       | Fraud patterns change over time                                                |\n",
        "| **Real-time Detection** | Systems must react instantly to flag or block suspicious transactions          |\n",
        "| **Feature Complexity**  | Transactions include time, amount, merchant, location, etc. (often anonymized) |\n",
        "| **Cost of Errors**      | False positives → customer inconvenience; false negatives → financial loss     |\n",
        "\n",
        "---\n",
        "\n",
        "## Why Use Anomaly Detection?\n",
        "\n",
        "**Anomaly detection** identifies rare or unusual patterns in data that do not conform to expected behavior.\n",
        "\n",
        "In credit card fraud detection:\n",
        "\n",
        "### **Anomalies = Potential Frauds**\n",
        "\n",
        "| Legitimate Behavior      | Fraudulent Behavior                     |\n",
        "| ------------------------ | --------------------------------------- |\n",
        "| Regular purchase amounts | Sudden large or repeated small charges  |\n",
        "| Usual merchant locations | Foreign transactions or risky merchants |\n",
        "| Normal timing            | Unusual hour or frequency               |\n",
        "\n",
        "---\n",
        "\n",
        "## Goals of Anomaly Detection in Fraud Detection\n",
        "\n",
        "1. **Detect fraud without needing labeled data** (unsupervised or semi-supervised methods)\n",
        "2. **Model normal behavior** → anything that deviates is flagged\n",
        "3. **Work with evolving patterns** without constant retraining\n",
        "\n",
        "---\n",
        "\n",
        "## Common Anomaly Detection Techniques Used\n",
        "\n",
        "| Technique                      | Description                                                           |\n",
        "| ------------------------------ | --------------------------------------------------------------------- |\n",
        "| **Z-score**                    | Flags values that are far from the mean                               |\n",
        "| **k-NN distance**              | Points with high average distance to neighbors are flagged            |\n",
        "| **Local Outlier Factor (LOF)** | Compares local density around a point vs. neighbors                   |\n",
        "| **Isolation Forest**           | Isolates anomalies by recursively splitting features                  |\n",
        "| **Autoencoders**               | Neural networks that reconstruct normal patterns poorly for anomalies |\n",
        "\n",
        "---\n",
        "\n",
        "## Anomaly Detection vs. Classification\n",
        "\n",
        "| Criteria           | Supervised Classification | Anomaly Detection                   |\n",
        "| ------------------ | ------------------------- | ----------------------------------- |\n",
        "| Requires labels    |  Yes                     |  No or few required                |\n",
        "| Handles imbalance  |  Hard without sampling  |  Naturally suited for imbalance    |\n",
        "| Works in real-time |  With retraining         |  Good for streaming applications   |\n",
        "| Adaptability       |  Static                  |  Better for evolving fraud tactics |\n",
        "\n",
        "---\n",
        "\n",
        "## Summary\n",
        "\n",
        "Using **anomaly detection** in credit card fraud:\n",
        "\n",
        "* Enables **early detection** of rare fraud cases\n",
        "* Works **with minimal or no labeled data**\n",
        "* Adapts to **new fraud patterns**\n",
        "* Helps build **real-time, scalable systems**"
      ]
    },
    {
      "cell_type": "markdown",
      "id": "4de42759-cded-4efc-ba29-3a7068bd4355",
      "metadata": {
        "id": "4de42759-cded-4efc-ba29-3a7068bd4355"
      },
      "source": [
        "## Import Required Libraries"
      ]
    },
    {
      "cell_type": "code",
      "execution_count": 1,
      "id": "35c28d68-756b-44b4-8b37-7586d842079a",
      "metadata": {
        "tags": [],
        "id": "35c28d68-756b-44b4-8b37-7586d842079a"
      },
      "outputs": [],
      "source": [
        "import pandas as pd\n",
        "import numpy as np\n",
        "from sklearn.preprocessing import StandardScaler\n",
        "from sklearn.decomposition import PCA\n",
        "from sklearn.cluster import KMeans, DBSCAN\n",
        "from sklearn.neighbors import LocalOutlierFactor, NearestNeighbors\n",
        "from sklearn.metrics import classification_report, confusion_matrix, silhouette_score, adjusted_rand_score\n",
        "from sklearn.model_selection import train_test_split\n",
        "import matplotlib.pyplot as plt\n",
        "import seaborn as sns\n",
        "import hdbscan\n",
        "import joblib\n",
        "import tensorflow as tf\n",
        "from tensorflow.keras import mixed_precision\n",
        "import os\n",
        "from sklearn.ensemble import IsolationForest\n",
        "\n"
      ]
    },
    {
      "cell_type": "code",
      "source": [
        "import google.colab\n",
        "google.colab.drive.mount('/content/drive')\n",
        "path = '/content/drive/MyDrive/Activities/creditcard_data.csv'"
      ],
      "metadata": {
        "id": "Ea95vssemD-X",
        "outputId": "d21701ff-95ef-4b32-96a2-915ceb26c70b",
        "colab": {
          "base_uri": "https://localhost:8080/"
        }
      },
      "id": "Ea95vssemD-X",
      "execution_count": 2,
      "outputs": [
        {
          "output_type": "stream",
          "name": "stdout",
          "text": [
            "Mounted at /content/drive\n"
          ]
        }
      ]
    },
    {
      "cell_type": "code",
      "source": [
        "\n",
        "gpus = tf.config.experimental.list_physical_devices('GPU')\n",
        "for g in gpus:\n",
        "    tf.config.experimental.set_memory_growth(g, False)\n",
        "\n",
        "# Enable XLA (fuses kernels)\n",
        "os.environ['TF_XLA_FLAGS'] = '--tf_xla_auto_jit=2'\n",
        "tf.config.optimizer.set_jit(True)\n",
        "\n",
        "# 2) Enable mixed-precision for Tensor Cores on the T4\n",
        "mixed_precision.set_global_policy('mixed_float16')\n",
        "print(\"Compute dtype:\", mixed_precision.global_policy().compute_dtype)\n",
        "print(\"Variable dtype:\", mixed_precision.global_policy().variable_dtype)\n",
        "\n",
        "print(\"GPUs available:\", tf.config.list_physical_devices('GPU'))\n",
        "!nvidia-smi                              # shows GPU status and memory"
      ],
      "metadata": {
        "id": "pefDChd-nQKG",
        "outputId": "27762f1e-ea1c-4883-e486-a3c803dd0c15",
        "colab": {
          "base_uri": "https://localhost:8080/"
        }
      },
      "id": "pefDChd-nQKG",
      "execution_count": 3,
      "outputs": [
        {
          "output_type": "stream",
          "name": "stdout",
          "text": [
            "Compute dtype: float16\n",
            "Variable dtype: float32\n",
            "GPUs available: [PhysicalDevice(name='/physical_device:GPU:0', device_type='GPU')]\n",
            "Thu May  8 20:54:26 2025       \n",
            "+-----------------------------------------------------------------------------------------+\n",
            "| NVIDIA-SMI 550.54.15              Driver Version: 550.54.15      CUDA Version: 12.4     |\n",
            "|-----------------------------------------+------------------------+----------------------+\n",
            "| GPU  Name                 Persistence-M | Bus-Id          Disp.A | Volatile Uncorr. ECC |\n",
            "| Fan  Temp   Perf          Pwr:Usage/Cap |           Memory-Usage | GPU-Util  Compute M. |\n",
            "|                                         |                        |               MIG M. |\n",
            "|=========================================+========================+======================|\n",
            "|   0  Tesla T4                       Off |   00000000:00:04.0 Off |                    0 |\n",
            "| N/A   54C    P8             12W /   70W |       2MiB /  15360MiB |      0%      Default |\n",
            "|                                         |                        |                  N/A |\n",
            "+-----------------------------------------+------------------------+----------------------+\n",
            "                                                                                         \n",
            "+-----------------------------------------------------------------------------------------+\n",
            "| Processes:                                                                              |\n",
            "|  GPU   GI   CI        PID   Type   Process name                              GPU Memory |\n",
            "|        ID   ID                                                               Usage      |\n",
            "|=========================================================================================|\n",
            "|  No running processes found                                                             |\n",
            "+-----------------------------------------------------------------------------------------+\n"
          ]
        }
      ]
    },
    {
      "cell_type": "markdown",
      "id": "ef368ef2-3fb9-4246-96ec-49333e0774c3",
      "metadata": {
        "tags": [],
        "id": "ef368ef2-3fb9-4246-96ec-49333e0774c3"
      },
      "source": [
        "## Load Data"
      ]
    },
    {
      "cell_type": "code",
      "execution_count": 4,
      "id": "dc159fcc-abef-45f5-87ba-ac7afa1d5305",
      "metadata": {
        "tags": [],
        "id": "dc159fcc-abef-45f5-87ba-ac7afa1d5305"
      },
      "outputs": [],
      "source": [
        "df = pd.read_csv(path)"
      ]
    },
    {
      "cell_type": "markdown",
      "id": "8d24d9e4-39e9-4d3f-95db-04831f443e49",
      "metadata": {
        "tags": [],
        "id": "8d24d9e4-39e9-4d3f-95db-04831f443e49"
      },
      "source": [
        "## Preprocessing\n",
        "Drop the non-feature Time and the label Class from X while storing Class as the target variable"
      ]
    },
    {
      "cell_type": "code",
      "execution_count": 5,
      "id": "40f605b2-0e13-475e-b48c-8c3fd31ee90b",
      "metadata": {
        "tags": [],
        "id": "40f605b2-0e13-475e-b48c-8c3fd31ee90b"
      },
      "outputs": [],
      "source": [
        "X = df.drop(columns=[\"Time\", \"Class\"])\n",
        "y = df[\"Class\"]"
      ]
    },
    {
      "cell_type": "markdown",
      "id": "553218cb-df79-4cd4-ae0d-f15b1db7d576",
      "metadata": {
        "tags": [],
        "id": "553218cb-df79-4cd4-ae0d-f15b1db7d576"
      },
      "source": [
        "## Standardize the features"
      ]
    },
    {
      "cell_type": "code",
      "execution_count": 6,
      "id": "6eb6a9c3-c29f-4a74-b539-03a6651e269e",
      "metadata": {
        "tags": [],
        "id": "6eb6a9c3-c29f-4a74-b539-03a6651e269e"
      },
      "outputs": [],
      "source": [
        "scaler = StandardScaler()\n",
        "X_scaled = scaler.fit_transform(X)"
      ]
    },
    {
      "cell_type": "markdown",
      "id": "650d5a5c-e83b-4aaa-90ef-42516191dc8e",
      "metadata": {
        "tags": [],
        "id": "650d5a5c-e83b-4aaa-90ef-42516191dc8e"
      },
      "source": [
        "## Dimensionality Reduction with PCA\n",
        "\n",
        "## What is PCA?\n",
        "\n",
        "**Principal Component Analysis (PCA)** is a linear dimensionality reduction technique that:\n",
        "\n",
        "* Transforms data into a new coordinate system.\n",
        "* Captures the **maximum variance** in the fewest number of new dimensions, called **principal components**.\n",
        "* Projects the original data into a space where the **axes (components)** are uncorrelated (orthogonal).\n",
        "\n",
        "---\n",
        "\n",
        "## Why Use PCA?\n",
        "\n",
        "* Reduce **dimensionality** (fewer features → faster models)\n",
        "* Remove **correlated features** (reduces redundancy)\n",
        "* Improve performance of clustering or anomaly detection\n",
        "* Enable **visualization** in 2D or 3D\n",
        "\n",
        "---\n",
        "\n",
        "## How PCA Works (Simplified Steps)\n",
        "\n",
        "1. **Standardize** the data (zero mean and unit variance).\n",
        "2. Compute the **covariance matrix**.\n",
        "3. Find **eigenvalues** and **eigenvectors** of the covariance matrix.\n",
        "4. Sort eigenvectors by descending eigenvalues — these are your principal components.\n",
        "5. **Project the data** onto the top `k` eigenvectors to get reduced dimensions.\n",
        "\n",
        "---\n",
        "\n",
        "## PCA Parameters in `scikit-learn`\n",
        "\n",
        "```python\n",
        "from sklearn.decomposition import PCA\n",
        "\n",
        "pca = PCA(n_components=2, whiten=False, svd_solver='auto', random_state=42)\n",
        "```\n",
        "\n",
        "### Key Parameters:\n",
        "\n",
        "| Parameter      | Description                                                                               |\n",
        "| -------------- | ----------------------------------------------------------------------------------------- |\n",
        "| `n_components` | Number of principal components to keep. Can be an `int`, float (e.g. 0.95), or `\"mle\"`    |\n",
        "| `svd_solver`   | Algorithm used for decomposition. Options: `'auto'`, `'full'`, `'arpack'`, `'randomized'` |\n",
        "| `whiten`       | Makes each PC have unit variance. Useful for some ML algorithms, but may distort scaling  |\n",
        "| `random_state` | Reproducibility when `svd_solver='randomized'`                                            |\n",
        "\n",
        "---\n",
        "\n",
        "### `n_components` Options:\n",
        "\n",
        "| Value   | Meaning                                                                               |\n",
        "| ------- | ------------------------------------------------------------------------------------- |\n",
        "| `int`   | Keep exactly that many components                                                     |\n",
        "| `float` | Keep enough components to explain that proportion of variance (e.g., 0.95)            |\n",
        "| `'mle'` | Use Minka’s MLE to guess optimal dimensionality (only works with `svd_solver='full'`) |\n",
        "| `None`  | Keep all components (no dimensionality reduction)                                     |\n",
        "\n",
        "---\n",
        "\n",
        "## When Not to Use PCA\n",
        "\n",
        "* When features are not numeric or comparable\n",
        "* When model interpretability is critical (PCs are linear combinations, not original features)\n",
        "* When the data is not linear — use **t-SNE** or **UMAP** for nonlinear manifolds"
      ]
    },
    {
      "cell_type": "code",
      "execution_count": 7,
      "id": "e64eb63d-7494-4d58-9b90-aafa4cd7df77",
      "metadata": {
        "tags": [],
        "id": "e64eb63d-7494-4d58-9b90-aafa4cd7df77"
      },
      "outputs": [],
      "source": [
        "pca = PCA(n_components=2)\n",
        "X_pca = pca.fit_transform(X_scaled)\n",
        "X_pca = X_pca.astype(np.float32)"
      ]
    },
    {
      "cell_type": "markdown",
      "id": "a8fb1536-049c-44d0-9700-3842342c36b7",
      "metadata": {
        "tags": [],
        "id": "a8fb1536-049c-44d0-9700-3842342c36b7"
      },
      "source": [
        "## Clustering"
      ]
    },
    {
      "cell_type": "code",
      "execution_count": 8,
      "id": "0a8c4e50-b71b-4358-a5ba-ad2ace35d62e",
      "metadata": {
        "tags": [],
        "id": "0a8c4e50-b71b-4358-a5ba-ad2ace35d62e"
      },
      "outputs": [],
      "source": [
        "## KMeans\n",
        "kmeans = KMeans(n_clusters=2, random_state=42)\n",
        "kmeans_labels = kmeans.fit_predict(X_pca)"
      ]
    },
    {
      "cell_type": "markdown",
      "id": "1a5d3366-fe48-456a-98d7-87039bda8dd1",
      "metadata": {
        "tags": [],
        "id": "1a5d3366-fe48-456a-98d7-87039bda8dd1"
      },
      "source": [
        "## Memory-Optimized HDBSCAN\n",
        "\n",
        "## What is HDBSCAN?\n",
        "\n",
        "**HDBSCAN (Hierarchical Density-Based Spatial Clustering of Applications with Noise)** is an advanced clustering algorithm that builds upon **DBSCAN** to:\n",
        "\n",
        "* Handle **variable density clusters**\n",
        "* Work better on **large, real-world datasets**\n",
        "* Automatically choose the optimal **number of clusters**\n",
        "\n",
        "It creates a **hierarchical tree of clusters**, then selects the most stable (persistent) clusters from that tree.\n",
        "\n",
        "---\n",
        "\n",
        "## How Does HDBSCAN Work?\n",
        "\n",
        "1. **Mutual Reachability Distance**: It adjusts distance between points to account for local density.\n",
        "2. **Minimum Spanning Tree**: A tree is formed from the points using mutual reachability.\n",
        "3. **Cluster Hierarchy**: Clusters are formed by progressively removing the longest edges from the tree.\n",
        "4. **Condensed Tree**: Stable clusters are selected from the hierarchy using either:\n",
        "\n",
        "   * `'eom'` (Excess of Mass) – default\n",
        "   * `'leaf'` – returns smallest persistent clusters\n",
        "\n",
        "---\n",
        "\n",
        "## Differences Between HDBSCAN and DBSCAN\n",
        "\n",
        "| Feature                | **DBSCAN**                                      | **HDBSCAN**                             |\n",
        "| ---------------------- | ----------------------------------------------- | --------------------------------------- |\n",
        "| **`eps` required?**    | ✅ Yes – fixed radius                            | ❌ No – uses variable density            |\n",
        "| **Density handling**   | Fixed density threshold                         | Variable, adaptive to local density     |\n",
        "| **Hierarchical?**      | ❌ No                                            | ✅ Yes                                   |\n",
        "| **Performance**        | Slower for large N                              | Faster with optimizations               |\n",
        "| **Number of clusters** | Depends on `eps`                                | Automatically determined                |\n",
        "| **Memory usage**       | Higher (dense distance matrix)                  | Lower (sparse reachability graph)       |\n",
        "| **Cluster shapes**     | Works well, but can fail with varying densities | Excellent at handling varying densities |\n",
        "\n",
        "---\n",
        "\n",
        "## When to Use HDBSCAN?\n",
        "\n",
        "Use HDBSCAN when:\n",
        "\n",
        "* Clusters vary in **density**\n",
        "* You want **automatic cluster count**\n",
        "* You are working with **large datasets**\n",
        "* You need better **noise identification**\n"
      ]
    },
    {
      "cell_type": "code",
      "execution_count": 10,
      "id": "0b37698d-87e2-49a4-b42e-c488a74dba7c",
      "metadata": {
        "tags": [],
        "id": "0b37698d-87e2-49a4-b42e-c488a74dba7c"
      },
      "outputs": [],
      "source": [
        "# Set up a joblib memory object with no caching\n",
        "memory = joblib.Memory(location=None)\n",
        "\n",
        "# Build HDBSCAN model (much more memory-efficient than sklearn DBSCAN)\n",
        "clusterer = hdbscan.HDBSCAN(\n",
        "    min_cluster_size=[5,10,20,50],      # Equivalent to DBSCAN's min_samples\n",
        "    min_samples=[1,5,10,20],\n",
        "    metric='euclidean',\n",
        "    core_dist_n_jobs=1,       # Limits parallel threads for memory\n",
        "    memory=memory,             # Use proper memory object\n",
        "    prediction_data=False     # Avoid saving extra data structures\n",
        ")"
      ]
    },
    {
      "cell_type": "markdown",
      "id": "922e7c4d-958e-4283-a7a6-d496a4116fc7",
      "metadata": {
        "tags": [],
        "id": "922e7c4d-958e-4283-a7a6-d496a4116fc7"
      },
      "source": [
        "## Clustering Evaluation"
      ]
    },
    {
      "cell_type": "code",
      "execution_count": 12,
      "id": "71a8097d-8d5b-44d4-9d96-8c057031f647",
      "metadata": {
        "tags": [],
        "id": "71a8097d-8d5b-44d4-9d96-8c057031f647",
        "outputId": "dec14c37-966b-4074-cb35-f74946b5a242",
        "colab": {
          "base_uri": "https://localhost:8080/"
        }
      },
      "outputs": [
        {
          "output_type": "stream",
          "name": "stderr",
          "text": [
            "/usr/local/lib/python3.11/dist-packages/sklearn/utils/deprecation.py:151: FutureWarning: 'force_all_finite' was renamed to 'ensure_all_finite' in 1.6 and will be removed in 1.8.\n",
            "  warnings.warn(\n",
            "/usr/local/lib/python3.11/dist-packages/sklearn/utils/deprecation.py:151: FutureWarning: 'force_all_finite' was renamed to 'ensure_all_finite' in 1.6 and will be removed in 1.8.\n",
            "  warnings.warn(\n"
          ]
        },
        {
          "output_type": "stream",
          "name": "stdout",
          "text": [
            "=== HDBSCAN (min_cluster_size=5, min_samples=1) ===\n",
            "Adjusted Rand Index: -5.8890798863369695e-05\n",
            "Silhouette Score (excluding noise): 0.388\n",
            "Detected Clusters: 24818, Noise Points: 47896\n",
            "\n"
          ]
        },
        {
          "output_type": "stream",
          "name": "stderr",
          "text": [
            "/usr/local/lib/python3.11/dist-packages/sklearn/utils/deprecation.py:151: FutureWarning: 'force_all_finite' was renamed to 'ensure_all_finite' in 1.6 and will be removed in 1.8.\n",
            "  warnings.warn(\n",
            "/usr/local/lib/python3.11/dist-packages/sklearn/utils/deprecation.py:151: FutureWarning: 'force_all_finite' was renamed to 'ensure_all_finite' in 1.6 and will be removed in 1.8.\n",
            "  warnings.warn(\n"
          ]
        },
        {
          "output_type": "stream",
          "name": "stdout",
          "text": [
            "=== HDBSCAN (min_cluster_size=5, min_samples=5) ===\n",
            "Adjusted Rand Index: -0.0003198889630707803\n",
            "Silhouette Score (excluding noise): 0.46\n",
            "Detected Clusters: 11683, Noise Points: 129103\n",
            "\n"
          ]
        },
        {
          "output_type": "stream",
          "name": "stderr",
          "text": [
            "/usr/local/lib/python3.11/dist-packages/sklearn/utils/deprecation.py:151: FutureWarning: 'force_all_finite' was renamed to 'ensure_all_finite' in 1.6 and will be removed in 1.8.\n",
            "  warnings.warn(\n",
            "/usr/local/lib/python3.11/dist-packages/sklearn/utils/deprecation.py:151: FutureWarning: 'force_all_finite' was renamed to 'ensure_all_finite' in 1.6 and will be removed in 1.8.\n",
            "  warnings.warn(\n"
          ]
        },
        {
          "output_type": "stream",
          "name": "stdout",
          "text": [
            "=== HDBSCAN (min_cluster_size=5, min_samples=10) ===\n",
            "Adjusted Rand Index: -0.0007974500693023348\n",
            "Silhouette Score (excluding noise): 0.475\n",
            "Detected Clusters: 5801, Noise Points: 173013\n",
            "\n"
          ]
        },
        {
          "output_type": "stream",
          "name": "stderr",
          "text": [
            "/usr/local/lib/python3.11/dist-packages/sklearn/utils/deprecation.py:151: FutureWarning: 'force_all_finite' was renamed to 'ensure_all_finite' in 1.6 and will be removed in 1.8.\n",
            "  warnings.warn(\n",
            "/usr/local/lib/python3.11/dist-packages/sklearn/utils/deprecation.py:151: FutureWarning: 'force_all_finite' was renamed to 'ensure_all_finite' in 1.6 and will be removed in 1.8.\n",
            "  warnings.warn(\n"
          ]
        },
        {
          "output_type": "stream",
          "name": "stdout",
          "text": [
            "=== HDBSCAN (min_cluster_size=5, min_samples=20) ===\n",
            "Adjusted Rand Index: -0.0011128949123610137\n",
            "Silhouette Score (excluding noise): 0.396\n",
            "Detected Clusters: 2676, Noise Points: 204484\n",
            "\n"
          ]
        },
        {
          "output_type": "stream",
          "name": "stderr",
          "text": [
            "/usr/local/lib/python3.11/dist-packages/sklearn/utils/deprecation.py:151: FutureWarning: 'force_all_finite' was renamed to 'ensure_all_finite' in 1.6 and will be removed in 1.8.\n",
            "  warnings.warn(\n",
            "/usr/local/lib/python3.11/dist-packages/sklearn/utils/deprecation.py:151: FutureWarning: 'force_all_finite' was renamed to 'ensure_all_finite' in 1.6 and will be removed in 1.8.\n",
            "  warnings.warn(\n"
          ]
        },
        {
          "output_type": "stream",
          "name": "stdout",
          "text": [
            "=== HDBSCAN (min_cluster_size=10, min_samples=1) ===\n",
            "Adjusted Rand Index: -0.00015886842386222754\n",
            "Silhouette Score (excluding noise): 0.332\n",
            "Detected Clusters: 10834, Noise Points: 61177\n",
            "\n"
          ]
        },
        {
          "output_type": "stream",
          "name": "stderr",
          "text": [
            "/usr/local/lib/python3.11/dist-packages/sklearn/utils/deprecation.py:151: FutureWarning: 'force_all_finite' was renamed to 'ensure_all_finite' in 1.6 and will be removed in 1.8.\n",
            "  warnings.warn(\n",
            "/usr/local/lib/python3.11/dist-packages/sklearn/utils/deprecation.py:151: FutureWarning: 'force_all_finite' was renamed to 'ensure_all_finite' in 1.6 and will be removed in 1.8.\n",
            "  warnings.warn(\n"
          ]
        },
        {
          "output_type": "stream",
          "name": "stdout",
          "text": [
            "=== HDBSCAN (min_cluster_size=10, min_samples=5) ===\n",
            "Adjusted Rand Index: -0.00046876473431035096\n",
            "Silhouette Score (excluding noise): 0.403\n",
            "Detected Clusters: 6373, Noise Points: 129467\n",
            "\n"
          ]
        },
        {
          "output_type": "stream",
          "name": "stderr",
          "text": [
            "/usr/local/lib/python3.11/dist-packages/sklearn/utils/deprecation.py:151: FutureWarning: 'force_all_finite' was renamed to 'ensure_all_finite' in 1.6 and will be removed in 1.8.\n",
            "  warnings.warn(\n",
            "/usr/local/lib/python3.11/dist-packages/sklearn/utils/deprecation.py:151: FutureWarning: 'force_all_finite' was renamed to 'ensure_all_finite' in 1.6 and will be removed in 1.8.\n",
            "  warnings.warn(\n"
          ]
        },
        {
          "output_type": "stream",
          "name": "stdout",
          "text": [
            "=== HDBSCAN (min_cluster_size=10, min_samples=10) ===\n",
            "Adjusted Rand Index: -0.0008896821945316344\n",
            "Silhouette Score (excluding noise): 0.451\n",
            "Detected Clusters: 3971, Noise Points: 173183\n",
            "\n"
          ]
        },
        {
          "output_type": "stream",
          "name": "stderr",
          "text": [
            "/usr/local/lib/python3.11/dist-packages/sklearn/utils/deprecation.py:151: FutureWarning: 'force_all_finite' was renamed to 'ensure_all_finite' in 1.6 and will be removed in 1.8.\n",
            "  warnings.warn(\n",
            "/usr/local/lib/python3.11/dist-packages/sklearn/utils/deprecation.py:151: FutureWarning: 'force_all_finite' was renamed to 'ensure_all_finite' in 1.6 and will be removed in 1.8.\n",
            "  warnings.warn(\n"
          ]
        },
        {
          "output_type": "stream",
          "name": "stdout",
          "text": [
            "=== HDBSCAN (min_cluster_size=10, min_samples=20) ===\n",
            "Adjusted Rand Index: -0.0011706449528590603\n",
            "Silhouette Score (excluding noise): 0.409\n",
            "Detected Clusters: 1945, Noise Points: 204727\n",
            "\n"
          ]
        },
        {
          "output_type": "stream",
          "name": "stderr",
          "text": [
            "/usr/local/lib/python3.11/dist-packages/sklearn/utils/deprecation.py:151: FutureWarning: 'force_all_finite' was renamed to 'ensure_all_finite' in 1.6 and will be removed in 1.8.\n",
            "  warnings.warn(\n",
            "/usr/local/lib/python3.11/dist-packages/sklearn/utils/deprecation.py:151: FutureWarning: 'force_all_finite' was renamed to 'ensure_all_finite' in 1.6 and will be removed in 1.8.\n",
            "  warnings.warn(\n"
          ]
        },
        {
          "output_type": "stream",
          "name": "stdout",
          "text": [
            "=== HDBSCAN (min_cluster_size=20, min_samples=1) ===\n",
            "Adjusted Rand Index: -0.00030852935707689506\n",
            "Silhouette Score (excluding noise): 0.296\n",
            "Detected Clusters: 4786, Noise Points: 79415\n",
            "\n"
          ]
        },
        {
          "output_type": "stream",
          "name": "stderr",
          "text": [
            "/usr/local/lib/python3.11/dist-packages/sklearn/utils/deprecation.py:151: FutureWarning: 'force_all_finite' was renamed to 'ensure_all_finite' in 1.6 and will be removed in 1.8.\n",
            "  warnings.warn(\n",
            "/usr/local/lib/python3.11/dist-packages/sklearn/utils/deprecation.py:151: FutureWarning: 'force_all_finite' was renamed to 'ensure_all_finite' in 1.6 and will be removed in 1.8.\n",
            "  warnings.warn(\n"
          ]
        },
        {
          "output_type": "stream",
          "name": "stdout",
          "text": [
            "=== HDBSCAN (min_cluster_size=20, min_samples=5) ===\n",
            "Adjusted Rand Index: -0.0006226222119315639\n",
            "Silhouette Score (excluding noise): 0.371\n",
            "Detected Clusters: 3128, Noise Points: 140664\n",
            "\n"
          ]
        },
        {
          "output_type": "stream",
          "name": "stderr",
          "text": [
            "/usr/local/lib/python3.11/dist-packages/sklearn/utils/deprecation.py:151: FutureWarning: 'force_all_finite' was renamed to 'ensure_all_finite' in 1.6 and will be removed in 1.8.\n",
            "  warnings.warn(\n",
            "/usr/local/lib/python3.11/dist-packages/sklearn/utils/deprecation.py:151: FutureWarning: 'force_all_finite' was renamed to 'ensure_all_finite' in 1.6 and will be removed in 1.8.\n",
            "  warnings.warn(\n"
          ]
        },
        {
          "output_type": "stream",
          "name": "stdout",
          "text": [
            "=== HDBSCAN (min_cluster_size=20, min_samples=10) ===\n",
            "Adjusted Rand Index: -0.0010309545831338961\n",
            "Silhouette Score (excluding noise): 0.408\n",
            "Detected Clusters: 2116, Noise Points: 178878\n",
            "\n"
          ]
        },
        {
          "output_type": "stream",
          "name": "stderr",
          "text": [
            "/usr/local/lib/python3.11/dist-packages/sklearn/utils/deprecation.py:151: FutureWarning: 'force_all_finite' was renamed to 'ensure_all_finite' in 1.6 and will be removed in 1.8.\n",
            "  warnings.warn(\n",
            "/usr/local/lib/python3.11/dist-packages/sklearn/utils/deprecation.py:151: FutureWarning: 'force_all_finite' was renamed to 'ensure_all_finite' in 1.6 and will be removed in 1.8.\n",
            "  warnings.warn(\n"
          ]
        },
        {
          "output_type": "stream",
          "name": "stdout",
          "text": [
            "=== HDBSCAN (min_cluster_size=20, min_samples=20) ===\n",
            "Adjusted Rand Index: -0.0012682924675417515\n",
            "Silhouette Score (excluding noise): 0.419\n",
            "Detected Clusters: 1274, Noise Points: 208826\n",
            "\n"
          ]
        },
        {
          "output_type": "stream",
          "name": "stderr",
          "text": [
            "/usr/local/lib/python3.11/dist-packages/sklearn/utils/deprecation.py:151: FutureWarning: 'force_all_finite' was renamed to 'ensure_all_finite' in 1.6 and will be removed in 1.8.\n",
            "  warnings.warn(\n",
            "/usr/local/lib/python3.11/dist-packages/sklearn/utils/deprecation.py:151: FutureWarning: 'force_all_finite' was renamed to 'ensure_all_finite' in 1.6 and will be removed in 1.8.\n",
            "  warnings.warn(\n"
          ]
        },
        {
          "output_type": "stream",
          "name": "stdout",
          "text": [
            "=== HDBSCAN (min_cluster_size=50, min_samples=1) ===\n",
            "Adjusted Rand Index: -0.0007492205588209565\n",
            "Silhouette Score (excluding noise): 0.276\n",
            "Detected Clusters: 1603, Noise Points: 113306\n",
            "\n"
          ]
        },
        {
          "output_type": "stream",
          "name": "stderr",
          "text": [
            "/usr/local/lib/python3.11/dist-packages/sklearn/utils/deprecation.py:151: FutureWarning: 'force_all_finite' was renamed to 'ensure_all_finite' in 1.6 and will be removed in 1.8.\n",
            "  warnings.warn(\n",
            "/usr/local/lib/python3.11/dist-packages/sklearn/utils/deprecation.py:151: FutureWarning: 'force_all_finite' was renamed to 'ensure_all_finite' in 1.6 and will be removed in 1.8.\n",
            "  warnings.warn(\n"
          ]
        },
        {
          "output_type": "stream",
          "name": "stdout",
          "text": [
            "=== HDBSCAN (min_cluster_size=50, min_samples=5) ===\n",
            "Adjusted Rand Index: -0.0008755562759463801\n",
            "Silhouette Score (excluding noise): 0.314\n",
            "Detected Clusters: 1079, Noise Points: 164049\n",
            "\n"
          ]
        },
        {
          "output_type": "stream",
          "name": "stderr",
          "text": [
            "/usr/local/lib/python3.11/dist-packages/sklearn/utils/deprecation.py:151: FutureWarning: 'force_all_finite' was renamed to 'ensure_all_finite' in 1.6 and will be removed in 1.8.\n",
            "  warnings.warn(\n",
            "/usr/local/lib/python3.11/dist-packages/sklearn/utils/deprecation.py:151: FutureWarning: 'force_all_finite' was renamed to 'ensure_all_finite' in 1.6 and will be removed in 1.8.\n",
            "  warnings.warn(\n"
          ]
        },
        {
          "output_type": "stream",
          "name": "stdout",
          "text": [
            "=== HDBSCAN (min_cluster_size=50, min_samples=10) ===\n",
            "Adjusted Rand Index: -0.001303903409104731\n",
            "Silhouette Score (excluding noise): 0.328\n",
            "Detected Clusters: 727, Noise Points: 194576\n",
            "\n"
          ]
        },
        {
          "output_type": "stream",
          "name": "stderr",
          "text": [
            "/usr/local/lib/python3.11/dist-packages/sklearn/utils/deprecation.py:151: FutureWarning: 'force_all_finite' was renamed to 'ensure_all_finite' in 1.6 and will be removed in 1.8.\n",
            "  warnings.warn(\n",
            "/usr/local/lib/python3.11/dist-packages/sklearn/utils/deprecation.py:151: FutureWarning: 'force_all_finite' was renamed to 'ensure_all_finite' in 1.6 and will be removed in 1.8.\n",
            "  warnings.warn(\n"
          ]
        },
        {
          "output_type": "stream",
          "name": "stdout",
          "text": [
            "=== HDBSCAN (min_cluster_size=50, min_samples=20) ===\n",
            "Adjusted Rand Index: -0.001471861487093397\n",
            "Silhouette Score (excluding noise): 0.302\n",
            "Detected Clusters: 444, Noise Points: 215536\n",
            "\n",
            "Best silhouette 0.475 at min_cluster_size=5 and min_samples=10\n"
          ]
        }
      ],
      "source": [
        "from sklearn.metrics import silhouette_score\n",
        "\n",
        "# Set up a joblib memory object with no caching\n",
        "memory = joblib.Memory(location=None)\n",
        "\n",
        "# Parameter grid for tuning\n",
        "min_cluster_sizes = [5, 10, 20, 50]\n",
        "min_samples_vals   = [1, 5, 10, 20]\n",
        "\n",
        "best_score  = float('-inf')\n",
        "best_params = (None, None)\n",
        "\n",
        "for mcs in min_cluster_sizes:\n",
        "    for ms in min_samples_vals:\n",
        "        # Build HDBSCAN model (much more memory-efficient than sklearn DBSCAN)\n",
        "        clusterer = hdbscan.HDBSCAN(\n",
        "            min_cluster_size=mcs,\n",
        "            min_samples=ms,\n",
        "            metric='euclidean',\n",
        "            core_dist_n_jobs=1,\n",
        "            memory=memory,\n",
        "            prediction_data=False\n",
        "        )\n",
        "\n",
        "        # Fit and predict clusters\n",
        "        dbscan_labels = clusterer.fit_predict(X_pca)\n",
        "\n",
        "        print(f\"=== HDBSCAN (min_cluster_size={mcs}, min_samples={ms}) ===\")\n",
        "        print(\"Adjusted Rand Index:\", adjusted_rand_score(y, dbscan_labels))\n",
        "\n",
        "        # Silhouette only if more than 1 cluster and not all noise\n",
        "        unique_labels = set(dbscan_labels)\n",
        "        if len(unique_labels - {-1}) > 1:\n",
        "            mask = dbscan_labels != -1\n",
        "            score = silhouette_score(X_pca[mask], dbscan_labels[mask])\n",
        "            print(\"Silhouette Score (excluding noise):\", round(score, 3))\n",
        "            if score > best_score:\n",
        "                best_score  = score\n",
        "                best_params = (mcs, ms)\n",
        "        else:\n",
        "            print(\"Silhouette Score: Not applicable (only one cluster)\")\n",
        "\n",
        "        # Cluster summary\n",
        "        n_clusters = len(unique_labels) - (1 if -1 in unique_labels else 0)\n",
        "        print(f\"Detected Clusters: {n_clusters}, Noise Points: {(dbscan_labels == -1).sum()}\\n\")\n",
        "\n",
        "print(\"Best silhouette {:.3f} at min_cluster_size={} and min_samples={}\".format(\n",
        "    best_score, best_params[0], best_params[1]\n",
        "))\n"
      ]
    },
    {
      "cell_type": "code",
      "execution_count": 13,
      "id": "819db5d5-8094-41f1-ae1e-99c0c9519e0b",
      "metadata": {
        "tags": [],
        "id": "819db5d5-8094-41f1-ae1e-99c0c9519e0b",
        "outputId": "2fe568c7-be04-44cb-982f-c6066a2c198d",
        "colab": {
          "base_uri": "https://localhost:8080/"
        }
      },
      "outputs": [
        {
          "output_type": "stream",
          "name": "stdout",
          "text": [
            "=== KMeans Clustering ===\n",
            "Adjusted Rand Index: -0.0001296436099360298\n",
            "Silhouette Score: 0.39632124\n"
          ]
        }
      ],
      "source": [
        "print(\"=== KMeans Clustering ===\")\n",
        "print(\"Adjusted Rand Index:\", adjusted_rand_score(y, kmeans_labels))\n",
        "print(\"Silhouette Score:\", silhouette_score(X_pca, kmeans_labels))"
      ]
    },
    {
      "cell_type": "code",
      "execution_count": 14,
      "id": "73ec188f",
      "metadata": {
        "id": "73ec188f",
        "outputId": "a6a2b782-39d1-4be5-e245-068883dfdd5c",
        "colab": {
          "base_uri": "https://localhost:8080/",
          "height": 537
        }
      },
      "outputs": [
        {
          "output_type": "display_data",
          "data": {
            "text/plain": [
              "<Figure size 1200x600 with 4 Axes>"
            ],
            "image/png": "[encoded data removed]"
          },
          "metadata": {}
        }
      ],
      "source": [
        "plt.figure(figsize=(12, 6))\n",
        "plt.subplot(1, 2, 1)\n",
        "plt.scatter(X_pca[:, 0], X_pca[:, 1], c=kmeans_labels, cmap='viridis', s=10)\n",
        "plt.title(\"KMeans Clustering\")\n",
        "plt.xlabel(\"PCA Component 1\")\n",
        "plt.ylabel(\"PCA Component 2\")\n",
        "plt.colorbar(label='Cluster Label')\n",
        "plt.subplot(1, 2, 2)\n",
        "plt.scatter(X_pca[:, 0], X_pca[:, 1], c=dbscan_labels, cmap='viridis', s=10)\n",
        "plt.title(\"HDBSCAN Clustering\")\n",
        "plt.xlabel(\"PCA Component 1\")\n",
        "plt.ylabel(\"PCA Component 2\")\n",
        "plt.colorbar(label='Cluster Label')\n",
        "plt.tight_layout()\n",
        "plt.show()\n"
      ]
    },
    {
      "cell_type": "markdown",
      "id": "0fa83783-898d-4842-9a52-e0e6ff83ba14",
      "metadata": {
        "tags": [],
        "id": "0fa83783-898d-4842-9a52-e0e6ff83ba14"
      },
      "source": [
        "## Local Outlier Factor (LOF) for Anomaly Detection"
      ]
    },
    {
      "cell_type": "code",
      "execution_count": null,
      "id": "8e1a42e0-c4e4-4dd9-bae6-42af7f2093ce",
      "metadata": {
        "tags": [],
        "id": "8e1a42e0-c4e4-4dd9-bae6-42af7f2093ce"
      },
      "outputs": [],
      "source": [
        "lof = LocalOutlierFactor(n_neighbors=20, contamination=0.02)\n",
        "lof_preds = lof.fit_predict(X_scaled)\n",
        "\n",
        "# Map LOF output to 0 (normal) and 1 (anomaly)\n",
        "lof_labels = np.where(lof_preds == -1, 1, 0)"
      ]
    },
    {
      "cell_type": "markdown",
      "id": "de81ed08-bf69-438b-b2ac-77d24b9fd4c0",
      "metadata": {
        "tags": [],
        "id": "de81ed08-bf69-438b-b2ac-77d24b9fd4c0"
      },
      "source": [
        "## Evaluation of LOF"
      ]
    },
    {
      "cell_type": "code",
      "execution_count": null,
      "id": "08ad2fd7-5572-48a1-bca8-a470a2393616",
      "metadata": {
        "tags": [],
        "id": "08ad2fd7-5572-48a1-bca8-a470a2393616"
      },
      "outputs": [],
      "source": [
        "print(\"\\n=== LOF Anomaly Detection ===\")\n",
        "print(classification_report(y, lof_labels, digits=4))"
      ]
    },
    {
      "cell_type": "markdown",
      "source": [
        "# Implementation of Isolation Forest"
      ],
      "metadata": {
        "id": "LXEHyNs8oqLr"
      },
      "id": "LXEHyNs8oqLr"
    },
    {
      "cell_type": "code",
      "source": [
        "iso_forest = IsolationForest(n_estimators=100, contamination=0.02, random_state=42)\n",
        "iso_forest_preds = iso_forest.fit_predict(X_scaled)\n",
        "\n",
        "# Map Isolation Forest output to 0 (normal) and 1 (anomaly)\n",
        "iso_forest_labels = np.where(iso_forest_preds == -1, 1, 0)"
      ],
      "metadata": {
        "id": "SVQbbVWEotx_"
      },
      "id": "SVQbbVWEotx_",
      "execution_count": null,
      "outputs": []
    },
    {
      "cell_type": "code",
      "source": [
        "# Plot iso_forest\n",
        "plt.figure(figsize=(10, 6))\n",
        "plt.scatter(X_pca[:, 0], X_pca[:, 1], c=iso_forest_labels, cmap='viridis', s=10, alpha=0.5)\n",
        "plt.title(\"Isolation Forest Anomaly Detection\")\n",
        "plt.xlabel(\"PCA Component 1\")\n",
        "plt.ylabel(\"PCA Component 2\")\n",
        "plt.colorbar(label='Anomaly Score')\n",
        "plt.show()"
      ],
      "metadata": {
        "id": "AqLco8PkpSHI"
      },
      "id": "AqLco8PkpSHI",
      "execution_count": null,
      "outputs": []
    },
    {
      "cell_type": "code",
      "source": [
        "print(\"\\n=== iso_forest Anomaly Detection ===\")\n",
        "print(classification_report(y, iso_forest_labels, digits=4))"
      ],
      "metadata": {
        "id": "ReX9-JibtvuB"
      },
      "id": "ReX9-JibtvuB",
      "execution_count": null,
      "outputs": []
    },
    {
      "cell_type": "markdown",
      "id": "eb6196ad-464a-4a90-8600-9df7df4c3766",
      "metadata": {
        "tags": [],
        "id": "eb6196ad-464a-4a90-8600-9df7df4c3766"
      },
      "source": [
        "## Confusion Matrix"
      ]
    },
    {
      "cell_type": "code",
      "execution_count": null,
      "id": "798d165a-e0da-4b0d-ad41-81f2e6a8aa20",
      "metadata": {
        "tags": [],
        "id": "798d165a-e0da-4b0d-ad41-81f2e6a8aa20"
      },
      "outputs": [],
      "source": [
        "cm = confusion_matrix(y, lof_labels)\n",
        "sns.heatmap(cm, annot=True, fmt=\"d\", cmap=\"Blues\", xticklabels=[\"Predicted Normal\", \"Predicted Fraud\"],\n",
        "            yticklabels=[\"Actual Normal\", \"Actual Fraud\"])\n",
        "plt.title(\"LOF Confusion Matrix\")\n",
        "plt.xlabel(\"Predicted\")\n",
        "plt.ylabel(\"Actual\")\n",
        "plt.show()\n",
        "\n",
        "plt.figure(figsize=(10, 6))\n",
        "plt.scatter(X_pca[:, 0], X_pca[:, 1], c=lof_labels, cmap='viridis', s=10, alpha=0.5)\n",
        "plt.title(\"LOF Anomaly Detection\")\n",
        "\n",
        "# iso_forest condusion matrix\n",
        "cm = confusion_matrix(y, iso_forest_labels)\n",
        "sns.heatmap(cm, annot=True, fmt=\"d\", cmap=\"Blues\", xticklabels=[\"Predicted Normal\", \"Predicted Fraud\"],\n",
        "            yticklabels=[\"Actual Normal\", \"Actual Fraud\"])\n",
        "plt.title(\"Isolation Forest Confusion Matrix\")\n",
        "plt.xlabel(\"Predicted\")\n",
        "plt.ylabel(\"Actual\")\n",
        "plt.show()"
      ]
    },
    {
      "cell_type": "markdown",
      "id": "b6e9c46d-d220-4944-b047-1421cbf8b864",
      "metadata": {
        "id": "b6e9c46d-d220-4944-b047-1421cbf8b864"
      },
      "source": [
        "## Assignment Questions\n",
        "\n",
        "Use the code in this notebook to answer the following questions:\n",
        "\n",
        "### **Conceptual Understanding**\n",
        "\n",
        "1. What is the main difference between KMeans and HDBSCAN clustering? How do they handle cluster shapes and noise?\n",
        "2. Why is PCA applied before clustering or anomaly detection in this notebook?\n",
        "3. What are the limitations of using accuracy as a metric for fraud detection?\n",
        "\n",
        "### **Code Analysis**\n",
        "\n",
        "4. Modify the code to use 3 principal components instead of 2. Re-run KMeans and observe how ARI and Silhouette Score change. What do you conclude?\n",
        "5. Tune the `min_cluster_size` and `min_samples` parameters in HDBSCAN. Which combination gives the best Silhouette Score?\n",
        "6. Replace LOF with `IsolationForest`. Compare the results. Which performs better in terms of detecting fraud?\n",
        "\n",
        "### **Practical Extension**\n",
        "\n",
        "7. Using the original (30D) features instead of PCA-reduced data, apply DBSCAN. What challenges do you face?\n",
        "8. Visualize the LOF scores on a scatterplot. Which clusters are more vulnerable to fraud?\n"
      ]
    },
    {
      "cell_type": "markdown",
      "id": "94116e02",
      "metadata": {
        "id": "94116e02"
      },
      "source": []
    },
    {
      "cell_type": "code",
      "execution_count": null,
      "id": "6759e583-f135-4743-b0d5-ead0923e3689",
      "metadata": {
        "id": "6759e583-f135-4743-b0d5-ead0923e3689"
      },
      "outputs": [],
      "source": []
    }
  ],
  "metadata": {
    "kernelspec": {
      "display_name": "Python 3",
      "name": "python3"
    },
    "language_info": {
      "codemirror_mode": {
        "name": "ipython",
        "version": 3
      },
      "file_extension": ".py",
      "mimetype": "text/x-python",
      "name": "python",
      "nbconvert_exporter": "python",
      "pygments_lexer": "ipython3",
      "version": "3.12.1"
    },
    "colab": {
      "provenance": [],
      "gpuType": "T4"
    },
    "accelerator": "GPU"
  },
  "nbformat": 4,
  "nbformat_minor": 5
}